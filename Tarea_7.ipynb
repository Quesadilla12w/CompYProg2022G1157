{
  "nbformat": 4,
  "nbformat_minor": 0,
  "metadata": {
    "colab": {
      "name": "Tarea 7.ipynb",
      "provenance": []
    },
    "kernelspec": {
      "name": "python3",
      "display_name": "Python 3"
    },
    "language_info": {
      "name": "python"
    }
  },
  "cells": [
    {
      "cell_type": "code",
      "metadata": {
        "id": "0UDcNZ-JP7fH",
        "colab": {
          "base_uri": "https://localhost:8080/"
        },
        "outputId": "4ef8f9cc-7040-4e4c-da24-30b81bcc703f"
      },
      "source": [
        "#Problema 3.1 \n",
        "SUMPAR = 0\n",
        "SUMIMP = 0\n",
        "CUEPAR = 0\n",
        "\n",
        "NUM = (int(input(\"Dame un numero entero que este dentro del rango establecido:\")))\n",
        "            \n",
        "\n",
        "for i in range(NUM):\n",
        "            if i % 2 == 0:\n",
        "                SUMPAR = SUMPAR + NUM\n",
        "                CUEPAR = CUEPAR + 1\n",
        "            else:\n",
        "                SUMIMP = SUMIMP + NUM\n",
        "         \n",
        "PROPAR = SUMPAR / CUEPAR\n",
        "print(PROPAR,SUMIMP)        \n",
        "\n",
        "\n",
        "\n",
        "    "
      ],
      "execution_count": 59,
      "outputs": [
        {
          "output_type": "stream",
          "name": "stdout",
          "text": [
            "Dame un numero entero que este dentro del rango establecido:10\n",
            "10.0 50\n"
          ]
        }
      ]
    },
    {
      "cell_type": "code",
      "metadata": {
        "id": "6k37StCqGaYl"
      },
      "source": [
        "#Problema 3.2\n",
        "BAND = \"T\"\n",
        "SUMSER = 0\n",
        "I = 2\n",
        "while I <= 1800 :\n",
        "    SUMSER = SUMSER + 1\n",
        "    print(I)\n",
        "    if BAND == \"T\" :\n",
        "        BAND = \"F\"\n",
        "        I = I + 3\n",
        "    else :\n",
        "        BAND = \"T\"\n",
        "        I = I + 2\n",
        "print(SUMSER)\n",
        "print(\"Fin del programa\")\n"
      ],
      "execution_count": null,
      "outputs": []
    },
    {
      "cell_type": "code",
      "metadata": {
        "id": "rKu0uA20IsXO"
      },
      "source": [
        "#Problema 3.3\n",
        "SERIE = 0\n",
        "N = int(input(\"Introduce un numero entro:\"))\n",
        "BAND = \"T\"\n",
        "I = 1\n",
        "while I <= N :\n",
        "    if BAND == \"T\":\n",
        "        SERIE = SERIE + 1/I\n",
        "        BAND = \"F\"\n",
        "    else :\n",
        "        SERIE = SERIE - 1/I\n",
        "        BAND = \"T\"\n",
        "    I = I + 1\n",
        "print(SERIE)\n",
        "\n"
      ],
      "execution_count": null,
      "outputs": []
    },
    {
      "cell_type": "code",
      "metadata": {
        "colab": {
          "base_uri": "https://localhost:8080/"
        },
        "id": "5A_a5qpSiI2S",
        "outputId": "9adef02b-61fc-4acf-f2be-de3ae76340a8"
      },
      "source": [
        "#Problema 3.4\n",
        "NOM=0\n",
        "NOMINAS=[855,760.32,1100.2,614,2600,817.5,1280.3,687,-1]\n",
        "I=0\n",
        "while NOMINAS[I] > -1:\n",
        "    if NOMINAS[I] < 1000:\n",
        "        NSUE=round(NOMINAS[I]*1.15,2)\n",
        "    else:\n",
        "        NSUE=round(NOMINAS[I]*1.12,2)\n",
        "    NOM=round(NOM+NSUE,2)\n",
        "    I=I+1\n",
        "    print(f\"El sueldo del trabajador es {NSUE}\")\n",
        "print(f\"La nomina es: {NOM}\")\n",
        "\n",
        "\n"
      ],
      "execution_count": 80,
      "outputs": [
        {
          "output_type": "stream",
          "name": "stdout",
          "text": [
            "El sueldo del trabajador es 983.25\n",
            "El sueldo del trabajador es 874.37\n",
            "El sueldo del trabajador es 1232.22\n",
            "El sueldo del trabajador es 706.1\n",
            "El sueldo del trabajador es 2912.0\n",
            "El sueldo del trabajador es 940.12\n",
            "El sueldo del trabajador es 1433.94\n",
            "El sueldo del trabajador es 790.05\n",
            "La nomina es: 9872.05\n"
          ]
        }
      ]
    }
  ]
}