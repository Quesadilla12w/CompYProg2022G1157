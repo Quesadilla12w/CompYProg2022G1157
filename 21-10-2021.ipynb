{
  "nbformat": 4,
  "nbformat_minor": 0,
  "metadata": {
    "colab": {
      "name": "FundamentosCyP1157.ipynb",
      "provenance": [],
      "collapsed_sections": []
    },
    "kernelspec": {
      "name": "python3",
      "display_name": "Python 3"
    },
    "language_info": {
      "name": "python"
    }
  },
  "cells": [
    {
      "cell_type": "code",
      "metadata": {
        "id": "X04nAGrNVgHo"
      },
      "source": [
        "Nombre = \"Jose\" # Tipo de dato String (Cadena de caracteres)\n",
        "print ( Nombre )\n"
      ],
      "execution_count": null,
      "outputs": []
    },
    {
      "cell_type": "markdown",
      "metadata": {
        "id": "5hNUmgNCXdU3"
      },
      "source": [
        "# Tipo de datos en Python\n",
        "\n",
        "### Tipos de datos simples\n",
        "- str --> String cadena de caracteres.\n",
        "- int --> Numeros enteros.\n",
        "- float --> Numeros con notacion de punto flotante.\n",
        "- complex --> Numeros complejos.\n",
        "- bool --> Boleano (True o False) \n",
        "- byte --> 8 bits.\n",
        "\n",
        "### Tipos de datos estructurados (compuestos)\n",
        "- list --> Listas (arreglos en otros leng)\n",
        "- tuple --> Listas no mutables\n",
        "- dict --> Diccionarios\n",
        "- set y fronzenset --> Conjuntos \n"
      ]
    },
    {
      "cell_type": "code",
      "metadata": {
        "id": "Bon3WSPcat6g",
        "colab": {
          "base_uri": "https://localhost:8080/"
        },
        "outputId": "c6bdd8ea-ea2f-45ae-cc32-b40447698426"
      },
      "source": [
        "import sys\n",
        "edad = 19\n",
        "print( \"Tu edad es:\",edad) # al final del codigo de una linea \n",
        "\"\"\"\n",
        "Comentarios de multilpes lineas.\n",
        "\"\"\"\n",
        "# Tipos de datos numericos\n",
        "sys.getsizeof(edad) # los datos int ocupan difente espacio dependiendo de la plataforma\n",
        "edad = edad + 1\n",
        "print(edad)\n",
        "estatura = 1.56 \n",
        "print(estatura)\n",
        "print( sys.getsizeof (estatura))\n",
        "estatura = estatura + 0.1\n",
        "print(estatura)\n",
        "print(round(estatura,2))\n",
        "\n",
        "edad += 1 # edad= edad +1 \n",
        "print( \"Tu edad es:\",edad)\n",
        "edad -= 1 # edad= edad -1 \n",
        "print( \"Tu edad es:\",edad)\n",
        "edad /= 2  # edad= edad /2\n",
        "print( \"La mitad de tu edad es:\",edad)\n",
        "edad += 1\n",
        "edad /= 2\n",
        "print( \"La mitad de tu edad es:\",edad)\n",
        "edad = 21\n",
        "# calcular la mitad de la edad sin decimal.\n",
        "edad = edad // 2\n",
        "print( \"La mitad de tu edad es:\",edad)\n",
        "\n",
        "# en la mayoria de los porgramas, no permite opercaiones entre diferentes tipos de datos.\n",
        "numero = edad / 2.0\n",
        "print( numero )\n",
        "\n",
        "numero *= 3\n",
        "print( numero )\n",
        "\n",
        "numero = 5.0\n",
        "numero = numero ** 2\n",
        "print( numero )\n",
        "\n",
        "# operador modulo\n",
        "numero = 21\n",
        "print( numero / 2)\n",
        "\n",
        "\n",
        "\n",
        "\n",
        "\n",
        "\n",
        "\n",
        "\n",
        "\n",
        "\n",
        "\n",
        "\n",
        "\n",
        "\n"
      ],
      "execution_count": null,
      "outputs": [
        {
          "output_type": "stream",
          "name": "stdout",
          "text": [
            "Tu edad es: 19\n",
            "20\n",
            "1.56\n",
            "24\n",
            "1.6600000000000001\n",
            "1.66\n",
            "Tu edad es: 21\n",
            "Tu edad es: 20\n",
            "La mitad de tu edad es: 10.0\n",
            "La mitad de tu edad es: 5.5\n",
            "La mitad de tu edad es: 10\n",
            "5.0\n",
            "15.0\n",
            "25.0\n",
            "10.5\n"
          ]
        }
      ]
    },
    {
      "cell_type": "code",
      "metadata": {
        "id": "XtSKegT_lvuY"
      },
      "source": [
        ""
      ],
      "execution_count": null,
      "outputs": []
    },
    {
      "cell_type": "markdown",
      "metadata": {
        "id": "m7MKmiNljV-H"
      },
      "source": [
        "Resumen de minimo de una cuartilla de los origenes de lenguaje python donde vega el porque de su creacion, sus caracteristicas principales y sus diferencias con otros lenguajes.\n",
        "A mano en cuaderno.\n",
        "Sacarle foto y subir la foto.\n"
      ]
    },
    {
      "cell_type": "code",
      "metadata": {
        "colab": {
          "base_uri": "https://localhost:8080/"
        },
        "id": "tLceb-_xlyoF",
        "outputId": "a3a70be2-c971-4caf-b051-bc5eeee73fd3"
      },
      "source": [
        "# operador modulo: da como resultado el residuo de una division entera.\n",
        "numero = 21\n",
        "print( numero / 2)\n",
        "print( numero // 2)\n",
        "print( numero % 2)\n",
        "\n",
        "\n",
        "numero = 24\n",
        "print(\"Residuo de 24 / 5 es:\" , numero % 5)\n",
        "\n",
        "\n",
        "#Operadores logicos o relacionales.\n",
        "print( numero % 2 == 0)\n",
        "\n",
        "#Diferencia.\n",
        "print( \"24 es diferente de 23=\" , numero != 23)\n",
        "print( \"24 es mayorque 23=\" , numero > 23)\n",
        "print( \"24 es mayor que 23=\" , numero < 23)\n",
        "\n",
        "print( \"24 es mayor o igual que 24=\" , numero >= 24)\n",
        "print( \"24 es mayor o igual que 23=\" , numero >= 23)\n",
        "print(\"El tipo de dato de la variable numero es:\" , type(numero))\n",
        "print(\"El tipo de dato de la variable numero es:\" , type(numero/2.0))\n",
        "    "
      ],
      "execution_count": null,
      "outputs": [
        {
          "output_type": "stream",
          "name": "stdout",
          "text": [
            "10.5\n",
            "10\n",
            "1\n",
            "Residuo de 24 / 5 es: 4\n",
            "True\n",
            "24 es diferente de 23= True\n",
            "24 es mayorque 23= True\n",
            "24 es mayor que 23= False\n",
            "24 es mayor o igual que 24= True\n",
            "24 es mayor o igual que 23= True\n",
            "El tipo de dato de la variable numero es: <class 'int'>\n",
            "El tipo de dato de la variable numero es: <class 'float'>\n"
          ]
        }
      ]
    },
    {
      "cell_type": "markdown",
      "metadata": {
        "id": "dPg1WO2rphsv"
      },
      "source": [
        "# tipo de dato string en Python\n",
        " Se maneja como un tipo de dato complejo.\n",
        " Se puede acceder a los elementos del string por medio del indice del caracter.\n",
        " Es mutable.\n",
        " Tiene metodos utiles (potentes)\n",
        " Slicing\n",
        "\n"
      ]
    },
    {
      "cell_type": "code",
      "metadata": {
        "colab": {
          "base_uri": "https://localhost:8080/"
        },
        "id": "DgT-7UCAqD0e",
        "outputId": "edcdf5da-d84c-482e-9fc9-5403afde1681"
      },
      "source": [
        "nombre = \"jose\"\n",
        "Carrera = \"Ingenieria en computacion\"\n",
        "frase= \"\"\"El conocimiento\n",
        "me persigue,..... \n",
        "pero\n",
        "yo soy mas rapido\"\"\"\n",
        "print(nombre)\n",
        "print(Carrera)\n",
        "print(frase)\n",
        "\n",
        "# La funcion type de python te devuelve el tipo de dato de una variable.\n",
        "print(type(nombre))\n",
        "\n",
        "paterno = str (\"perez\")\n",
        "print(paterno)\n"
      ],
      "execution_count": null,
      "outputs": [
        {
          "output_type": "stream",
          "name": "stdout",
          "text": [
            "jose\n",
            "Ingenieria en computacion\n",
            "El conocimiento\n",
            "me persigue,..... \n",
            "pero\n",
            "yo soy mas rapido\n",
            "<class 'str'>\n",
            "perez\n"
          ]
        }
      ]
    },
    {
      "cell_type": "markdown",
      "metadata": {
        "id": "qvkeATRUpGQ4"
      },
      "source": [
        "Una clase (class) es un tipo de dato compuesto.\n"
      ]
    },
    {
      "cell_type": "code",
      "metadata": {
        "colab": {
          "base_uri": "https://localhost:8080/"
        },
        "id": "08NhR4YTpP29",
        "outputId": "e47bb4a2-057c-4685-8776-b6aea2466ac8"
      },
      "source": [
        "Carrera = \"Ingenieria en computacion\"\n",
        "print(Carrera)\n",
        "print(Carrera[2])\n",
        "#En python se inician los arreglos desde 0\n",
        "#En python no existen los arrglos, son las sustituidos por las listas.\n",
        "#Los strings como un arreglo en la mayoria de los lenguajes.\n",
        "#En python se acepta en indexado negativo, otros lenguajes No."
      ],
      "execution_count": null,
      "outputs": [
        {
          "output_type": "stream",
          "name": "stdout",
          "text": [
            "Ingenieria en computacion\n",
            "g\n"
          ]
        }
      ]
    },
    {
      "cell_type": "code",
      "metadata": {
        "colab": {
          "base_uri": "https://localhost:8080/"
        },
        "id": "qkwIUtAAsfQ-",
        "outputId": "204e44c2-0389-44a9-96e7-ba6562ff476a"
      },
      "source": [
        "Carrera = \"Ingenieria en computacion\"\n",
        "print(Carrera [8])\n",
        "print(Carrera [24])\n",
        "print(Carrera [-1])\n",
        "print(Carrera [-25])\n",
        "#Adelantando el tema del ciclo ford\n",
        "for letra in Carrera:\n",
        "  print(\"-->\",letra,\"<--\" )\n",
        "\n",
        "\n",
        "\n",
        "\n"
      ],
      "execution_count": null,
      "outputs": [
        {
          "output_type": "stream",
          "name": "stdout",
          "text": [
            "i\n",
            "n\n",
            "n\n",
            "I\n",
            "--> I <--\n",
            "--> n <--\n",
            "--> g <--\n",
            "--> e <--\n",
            "--> n <--\n",
            "--> i <--\n",
            "--> e <--\n",
            "--> r <--\n",
            "--> i <--\n",
            "--> a <--\n",
            "-->   <--\n",
            "--> e <--\n",
            "--> n <--\n",
            "-->   <--\n",
            "--> c <--\n",
            "--> o <--\n",
            "--> m <--\n",
            "--> p <--\n",
            "--> u <--\n",
            "--> t <--\n",
            "--> a <--\n",
            "--> c <--\n",
            "--> i <--\n",
            "--> o <--\n",
            "--> n <--\n"
          ]
        }
      ]
    },
    {
      "cell_type": "code",
      "metadata": {
        "colab": {
          "base_uri": "https://localhost:8080/"
        },
        "id": "AfpzPOgnwP40",
        "outputId": "b0997019-2476-4c3c-9e54-26353326a830"
      },
      "source": [
        "Carrera = \"Ingenieria en computacion\"\n",
        "print(Carrera [0:10:1])\n",
        "print(Carrera [14:25:1])\n",
        "#Lo mismo con indexado negativo\n",
        "print(Carrera [-11:-1:1])\n",
        "print(Carrera [:10:])\n",
        "print(Carrera [-11::1])\n",
        "\n",
        "#arreglo\n",
        "print(\"--------\")\n",
        "print(Carrera [-11:-1:1])\n",
        "print(Carrera [-11::1])\n",
        "\n",
        "#Un ejercicio mas para ver incremento\n",
        "print(Carrera [0:10:2])\n",
        "print(Carrera [-1:-12:-2])\n",
        "print(Carrera [25:13:-1])\n",
        "\n",
        "\n",
        "\n",
        "\n",
        "\n",
        "  \n",
        " "
      ],
      "execution_count": null,
      "outputs": [
        {
          "output_type": "stream",
          "name": "stdout",
          "text": [
            "Ingenieria\n",
            "computacion\n",
            "computacio\n",
            "Ingenieria\n",
            "computacion\n",
            "--------\n",
            "computacio\n",
            "computacion\n",
            "Ignei\n",
            "niaumc\n",
            "noicatupmoc\n"
          ]
        }
      ]
    },
    {
      "cell_type": "markdown",
      "metadata": {
        "id": "2oF-RcsAu351"
      },
      "source": [
        "#Slicing (rebanado) de cadenas.\n",
        "Permite seleccionar subcadenas con el operador.\n",
        "### [inicio : stop : incremento\n",
        "El stop no se incluye, es por eso que debemos agragar una posicion extra]\n",
        "Valores por defecto, el inicio por defecto siempre sera 0\n",
        "stop:tamaño del arreglo en un indexado positivo y sera 0 en un indexado negativo\n",
        "Incremento por defecto es 1 en indexado positivo.\n"
      ]
    },
    {
      "cell_type": "markdown",
      "metadata": {
        "id": "S9d-rpTX0g-Z"
      },
      "source": [
        "#STRING Y SUS METODOS\n",
        "\n",
        "##dir() y help () son funciones para obtener ayuda del lenguaje python.\n",
        "## dir() muestra las funciones de un tipo de dato, como resumen.\n",
        "## help () muestra la misma ayuda pero con detalles.\n",
        "## todos los tipos de datos en python son objetos  (clase POO)\n",
        "## Por lo cual tienen atributos y metodos.\n",
        "##Los metodos que inician con __ son privados de uso interno de la clase y no deberiamos usarlos.\n",
        "##Todos los demas son para uso exterior.\n"
      ]
    },
    {
      "cell_type": "code",
      "metadata": {
        "colab": {
          "base_uri": "https://localhost:8080/"
        },
        "id": "bFIFqqjc049A",
        "outputId": "7d516d8f-ef05-4ce5-d146-048667067e28"
      },
      "source": [
        "frutas = \"limon , fresa, manzana  , aguacate   \"\n",
        "print(frutas)\n",
        "dir(frutas)\n",
        "nombre = \"jose\"\n",
        "print(nombre.capitalize() )\n",
        "print(nombre.upper() )\n",
        "print(frutas.replace('a' , '4' ).replace('e' , '3' ).upper() )\n",
        "frutas = frutas.replace('a' , '4' ).replace('e' , '3' ).upper()\n",
        "print(\"-----------------\")\n",
        "frutas = \"limon , fresa, manzana  , aguacate   \"\n",
        "print(frutas.strip())\n",
        "print(frutas.split(\",\"))\n",
        "\n",
        "\n"
      ],
      "execution_count": null,
      "outputs": [
        {
          "output_type": "stream",
          "name": "stdout",
          "text": [
            "limon , fresa, manzana  , aguacate   \n",
            "Jose\n",
            "JOSE\n",
            "LIMON , FR3S4, M4NZ4N4  , 4GU4C4T3   \n",
            "-----------------\n",
            "limon , fresa, manzana  , aguacate\n",
            "['limon ', ' fresa', ' manzana  ', ' aguacate   ']\n"
          ]
        }
      ]
    },
    {
      "cell_type": "markdown",
      "metadata": {
        "id": "fLgY0PFP8YVV"
      },
      "source": [
        "## String y caracteres de escape\n",
        "\\\\\" --> \"\n",
        "\\\\' -->'\n",
        "\\n salto de linea\n",
        "\\t tabulador  espacios a la izq\n",
        "\\uxxxx  caracteres unicode 16 bits\n",
        "\\uxxxxxxxx unicode extendido 32 bits\n",
        "\\\\\\ --> \\\\\n"
      ]
    },
    {
      "cell_type": "code",
      "metadata": {
        "colab": {
          "base_uri": "https://localhost:8080/"
        },
        "id": "n1oHdwXe8yWC",
        "outputId": "106135b7-de2f-4220-919c-d1e5ad47ef82"
      },
      "source": [
        "nombre = \" \\\"jose\\\" \"\n",
        "print(nombre)\n",
        "carrera = \"ingenieria \\n\\ten \\n\\t\\tcomputacion\"\n",
        "print(carrera)\n",
        "print(\"\\u0444\")\n",
        "print(\"\\u0620\")\n",
        "print(\"\\U00010057\")\n",
        "print(\"\\U0001F9B2\")\n",
        "print(\"\\U0001F601\")\n",
        "print(\"\\U0001F9A0\")\n",
        "print(\"\\U0001F602\")\n",
        "print(\"\\U00010057\")\n",
        "\n"
      ],
      "execution_count": 14,
      "outputs": [
        {
          "output_type": "stream",
          "name": "stdout",
          "text": [
            " \"jose\" \n",
            "ingenieria \n",
            "\ten \n",
            "\t\tcomputacion\n",
            "ф\n",
            "ؠ\n",
            "𐁗\n",
            "🦲\n",
            "😁\n",
            "🦠\n",
            "😂\n",
            "𐁗\n"
          ]
        }
      ]
    },
    {
      "cell_type": "markdown",
      "metadata": {
        "id": "EGRES9BPyHf2"
      },
      "source": [
        "# Funcion print\n",
        "### se emplea para dezplegar informacion en la salida estandar.Normalmente un monitor.\n",
        "-Formas de usar print.\n",
        "-El argumento por defecto de la funcion print (end)\n",
        "-El format ()\n",
        "-El operador F\"\""
      ]
    },
    {
      "cell_type": "code",
      "metadata": {
        "colab": {
          "base_uri": "https://localhost:8080/"
        },
        "id": "ex18Yigxy3aV",
        "outputId": "dc96dd28-726a-4785-a4b4-5d32ccae2761"
      },
      "source": [
        "nombre = \"jose\"\n",
        "edad = 18\n",
        "casado = False\n",
        "estatura = 1.67\n",
        "\"\"\"\n",
        "Nombre : jose\n",
        "   Edad: 18\n",
        "   Estado: casado : False\n",
        "   Estatura metros : 1.67\n",
        "\"\"\"\n",
        "#con comas convierte a string automatico \n",
        "print(nombre,edad,casado,estatura)\n",
        "#Con el simbolo de suma concatenacion en crudo.\n",
        "print(nombre +\" \" +str(edad) +\" \" +str(casado) +\" \" + str(estatura))\n",
        "#Dando formato a la salida con format\n",
        "print(\"Nombre: {}\\n\\tEdad: {}\\n\\tEstado casado: {}\\n\\testatura en metros:{}\".format(nombre,edad,casado, estatura))\n",
        "#Con el opedador f\"\"\n",
        "print(\"con el operador f\\\" \\\"\")\n",
        "print(f\"Nombre: { nombre }\\n\\tEdad: { edad }\\n\\tEstado casado: { casado }\\n\\testatura en metros:{ estatura }\")\n",
        "#como manejar el argumento end\n",
        "print(\"como usar el argumento end\")\n",
        "print(f\" Hola {nombre} \" , end=\"\")\n",
        "print(\", como estas?\" , end=\"\\n\")\n",
        "\n",
        "\n",
        "\n"
      ],
      "execution_count": 37,
      "outputs": [
        {
          "output_type": "stream",
          "name": "stdout",
          "text": [
            "jose 18 False 1.67\n",
            "jose 18 False 1.67\n",
            "Nombre: jose\n",
            "\tEdad: 18\n",
            "\tEstado casado: False\n",
            "\testatura en metros:1.67\n",
            "con el operador f\" \"\n",
            "Nombre: jose\n",
            "\tEdad: 18\n",
            "\tEstado casado: False\n",
            "\testatura en metros:1.67\n",
            "como usar el argumento end\n",
            " Hola jose , como estas?\n"
          ]
        }
      ]
    },
    {
      "cell_type": "markdown",
      "metadata": {
        "id": "FMK4AvZF67Lf"
      },
      "source": [
        "# Con una sola funcion print, escribir el primer nombre de la siguiente forma.\n",
        "K   k      A \n",
        "k k       A  A\n",
        " K       A A A A\n",
        "k k     A      A\n",
        "k  k   A        A\n",
        "\n"
      ]
    },
    {
      "cell_type": "code",
      "metadata": {
        "colab": {
          "base_uri": "https://localhost:8080/"
        },
        "id": "ODDSC4fS7KnP",
        "outputId": "ecf7a02e-412f-4664-b262-5d86d1cc6cbe"
      },
      "source": [
        "print(\"Luis\") \n"
      ],
      "execution_count": 39,
      "outputs": [
        {
          "output_type": "stream",
          "name": "stdout",
          "text": [
            "Luis\n"
          ]
        }
      ]
    },
    {
      "cell_type": "markdown",
      "metadata": {
        "id": "8eEEwgxT4rhf"
      },
      "source": [
        ""
      ]
    }
  ]
}