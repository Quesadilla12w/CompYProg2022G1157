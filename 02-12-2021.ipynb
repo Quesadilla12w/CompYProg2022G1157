{
  "nbformat": 4,
  "nbformat_minor": 0,
  "metadata": {
    "colab": {
      "name": "Fundamentos3_CyP_1157.ipynb",
      "provenance": [],
      "collapsed_sections": []
    },
    "kernelspec": {
      "name": "python3",
      "display_name": "Python 3"
    },
    "language_info": {
      "name": "python"
    }
  },
  "cells": [
    {
      "cell_type": "markdown",
      "metadata": {
        "id": "riw-c9w7FnFn"
      },
      "source": [
        "Repeticion :    \n",
        "  - Este tipo de estructura nos permite automatizar la ejecucion repetitiva de codigo mientras ciertas condiciones se cumplan , tenemos 3 variantes de esta estructura en todos los lenguajes de progrmacion.\n",
        "      - Desde....Hasta (estructura for).\n",
        "      - haz mientras ( estructura while)\n",
        "      - haz y luego validaz mientras (estructura Do-While)\n",
        "\n",
        "#for con python \n",
        "\n",
        "```\n",
        "for j in range(10):     \n",
        "     print(f\"hola{J}\")\n",
        "```\n",
        "#for con lenguaje c y/o java\n",
        "\n",
        "```\n",
        "for( int j=0 ; j<10 ; j=j+1){\n",
        "    printf(\"Hola %i /n\" , j) ; \n",
        "}\n",
        "```\n",
        "En todos lo lenguajes de programacion existe un tipo especial de for, conocido como **for-each**.\n",
        "\n",
        "#En el caso de python el for-each\n",
        "\n",
        "```\n",
        "for color in colores:    \n",
        "    print(f\"Este es el color {color}\")\n",
        "```\n"
      ]
    },
    {
      "cell_type": "code",
      "metadata": {
        "colab": {
          "base_uri": "https://localhost:8080/"
        },
        "id": "ha1N_gQeH2tX",
        "outputId": "5a9a894c-ce07-4f76-878e-af7c4eaa3adc"
      },
      "source": [
        "#funcion range.\n",
        "#range (<INICIO>,<STOP>,<INCREMENTO>)\n",
        "x = range(0,10,2)\n",
        "print(x)\n",
        "\n",
        "for j in range(10) :\n",
        "    print(f\"HOLA {j}\") #genera un iterador de 0 a 9.\n",
        "print(\"-------------\")\n",
        "for j in range(0,10,2) :\n",
        "    print(f\"HOLA {j}\")\n",
        "\n",
        "frutas = [\"uva\",\"aguacate\",\"pera\",\"manzana\",\"sandia\" ]\n",
        "\n",
        "print(frutas[0])\n",
        "print(frutas[1])\n",
        "print(frutas[2])\n",
        "print(frutas[3])\n",
        "print(frutas[4])\n",
        "\n",
        "\n",
        "print(\"--frutas--\")\n",
        "for index in range(5):\n",
        "    print(frutas[index])\n",
        "\n",
        "for i in range(5):\n",
        "    print(\"+++++\")"
      ],
      "execution_count": null,
      "outputs": [
        {
          "output_type": "stream",
          "name": "stdout",
          "text": [
            "range(0, 10, 2)\n",
            "HOLA 0\n",
            "HOLA 1\n",
            "HOLA 2\n",
            "HOLA 3\n",
            "HOLA 4\n",
            "HOLA 5\n",
            "HOLA 6\n",
            "HOLA 7\n",
            "HOLA 8\n",
            "HOLA 9\n",
            "-------------\n",
            "HOLA 0\n",
            "HOLA 2\n",
            "HOLA 4\n",
            "HOLA 6\n",
            "HOLA 8\n",
            "uva\n",
            "aguacate\n",
            "pera\n",
            "manzana\n",
            "sandia\n",
            "--frutas--\n",
            "uva\n",
            "aguacate\n",
            "pera\n",
            "manzana\n",
            "sandia\n",
            "+++++\n",
            "+++++\n",
            "+++++\n",
            "+++++\n",
            "+++++\n"
          ]
        }
      ]
    },
    {
      "cell_type": "code",
      "metadata": {
        "id": "NQjb2Lv3Ly7V"
      },
      "source": [
        "for x in range(1, 20, 1 ) :\n",
        "    print(x)\n",
        "print(\"Fin del programa\")\n",
        "\n",
        "for x in range(19,0,-1) :\n",
        "    print(x)\n",
        "print(\"Fin del programa\")"
      ],
      "execution_count": null,
      "outputs": []
    },
    {
      "cell_type": "code",
      "metadata": {
        "colab": {
          "base_uri": "https://localhost:8080/"
        },
        "id": "wM5duq1yNqP8",
        "outputId": "0b12b355-55bb-425c-cde2-60637fb8deab"
      },
      "source": [
        "#Ejemplo 3.3\n",
        "CUECER = 0\n",
        "NUM = 0\n",
        "N = int(input(\"un valor numerico mayor que 1 :\"))\n",
        "for I in range(1, N+1 , 1) :\n",
        "    N = int(input(\"un valor numerico mayor que 1 :\"))\n",
        "    if N == 0:\n",
        "        CUECER += 1\n",
        "print(\"CUECER=\" , CUECER)\n"
      ],
      "execution_count": null,
      "outputs": [
        {
          "output_type": "stream",
          "name": "stdout",
          "text": [
            "un valor numerico mayor que 1 :4\n",
            "un valor numerico mayor que 1 :0\n",
            "un valor numerico mayor que 1 :0\n",
            "un valor numerico mayor que 1 :2\n",
            "un valor numerico mayor que 1 :2\n",
            "CUECER= 2\n"
          ]
        }
      ]
    },
    {
      "cell_type": "code",
      "metadata": {
        "colab": {
          "base_uri": "https://localhost:8080/"
        },
        "id": "OspCfNC8Q2Mz",
        "outputId": "5b4f3336-ac09-472b-b6b5-bfeb59ad7513"
      },
      "source": [
        "for i in range(1, 11):\n",
        " print(f\"7 * {i} = \", 7*i)"
      ],
      "execution_count": null,
      "outputs": [
        {
          "output_type": "stream",
          "name": "stdout",
          "text": [
            "7 * 1 =  7\n",
            "7 * 2 =  14\n",
            "7 * 3 =  21\n",
            "7 * 4 =  28\n",
            "7 * 5 =  35\n",
            "7 * 6 =  42\n",
            "7 * 7 =  49\n",
            "7 * 8 =  56\n",
            "7 * 9 =  63\n",
            "7 * 10 =  70\n"
          ]
        }
      ]
    },
    {
      "cell_type": "code",
      "metadata": {
        "id": "nxWH978NUR6M"
      },
      "source": [
        "NUMERO = int(input(\"Dame un numero entre 1 y 5:\"))\n",
        "if \n",
        "NUMERO2 = int(input(\"Dame un numero entre 2 y 10:\"))"
      ],
      "execution_count": null,
      "outputs": []
    },
    {
      "cell_type": "code",
      "metadata": {
        "colab": {
          "base_uri": "https://localhost:8080/"
        },
        "id": "RDr1MtjHUZg1",
        "outputId": "522323ed-63f5-4841-9742-ccf944574b9d"
      },
      "source": [
        "N1=int(input('ingresa un valor entre 1 y 5: '))\n",
        "if N1>0 and N1<6:\n",
        "    N2=int(input(f'ingresa un valor entre el {N1} y 10: '))\n",
        "    if N2>= N1 and N2<11:\n",
        "\n",
        "        for i in range( N1, N2+1):\n",
        "            for j in range(1,11):\n",
        "                print(f\"{i} x {j} = \", i*j)\n",
        "    else:\n",
        "        print('El valor ingresado no esta dentro del rango')\n",
        "else:\n",
        "    print('El valor ingresado no esta dentro del rango')"
      ],
      "execution_count": null,
      "outputs": [
        {
          "output_type": "stream",
          "name": "stdout",
          "text": [
            "ingresa un valor entre 1 y 5: 4\n",
            "ingresa un valor entre el 4 y 10: 6\n",
            "4 x 1 =  4\n",
            "4 x 2 =  8\n",
            "4 x 3 =  12\n",
            "4 x 4 =  16\n",
            "4 x 5 =  20\n",
            "4 x 6 =  24\n",
            "4 x 7 =  28\n",
            "4 x 8 =  32\n",
            "4 x 9 =  36\n",
            "4 x 10 =  40\n",
            "5 x 1 =  5\n",
            "5 x 2 =  10\n",
            "5 x 3 =  15\n",
            "5 x 4 =  20\n",
            "5 x 5 =  25\n",
            "5 x 6 =  30\n",
            "5 x 7 =  35\n",
            "5 x 8 =  40\n",
            "5 x 9 =  45\n",
            "5 x 10 =  50\n",
            "6 x 1 =  6\n",
            "6 x 2 =  12\n",
            "6 x 3 =  18\n",
            "6 x 4 =  24\n",
            "6 x 5 =  30\n",
            "6 x 6 =  36\n",
            "6 x 7 =  42\n",
            "6 x 8 =  48\n",
            "6 x 9 =  54\n",
            "6 x 10 =  60\n"
          ]
        }
      ]
    },
    {
      "cell_type": "code",
      "metadata": {
        "colab": {
          "base_uri": "https://localhost:8080/"
        },
        "id": "wGJyzWNQVcAE",
        "outputId": "b6a747ca-455c-428e-8fc6-f5e17525b882"
      },
      "source": [
        "#Ganeradores de listas.\n",
        "numeros = [0,0,0,0,0]\n",
        "print(numeros)\n",
        "numeros = [0 for x in range(5) ]\n",
        "print(numeros)\n",
        "#Empleando la variable de control x para el valor inicial.\n",
        "numeros = [x for x in range(5) ]\n",
        "print(numeros)\n",
        "numeros = [10*(x+1) for x in range(11) ]\n",
        "print(numeros)"
      ],
      "execution_count": null,
      "outputs": [
        {
          "output_type": "stream",
          "name": "stdout",
          "text": [
            "[0, 0, 0, 0, 0]\n",
            "[0, 0, 0, 0, 0]\n",
            "[0, 1, 2, 3, 4]\n",
            "[10, 20, 30, 40, 50, 60, 70, 80, 90, 100, 110]\n"
          ]
        }
      ]
    },
    {
      "cell_type": "code",
      "metadata": {
        "id": "tXIHxdN_YRqi"
      },
      "source": [
        "#Ejercicio calcular promedio de edades.\n",
        "suma=0\n",
        "edades=[0 for x in range(5)]\n",
        "for x in range(5):\n",
        "    edades[x]=int(input(\"Dame una edad: \"))\n",
        "    suma=suma+edades[x]\n",
        "print(edades)\n",
        "print(\"promedio: \", suma/5)\n",
        "\n",
        "\n"
      ],
      "execution_count": null,
      "outputs": []
    },
    {
      "cell_type": "code",
      "metadata": {
        "colab": {
          "base_uri": "https://localhost:8080/"
        },
        "id": "-dy7ZuUecP5f",
        "outputId": "161d6ed6-65a6-41cf-9a3f-c17d45f7bb52"
      },
      "source": [
        "import random\n",
        "print(random.random())\n",
        "print(random.uniform(5,11))\n",
        "val = round(random.uniform(5,11) , 2)\n",
        "print(val)\n",
        "\n",
        "valores = [round(random.uniform(5,11),2) for x in range(20)]\n",
        "print(valores)\n",
        "#numero menor y numero mayor y tambien el promedio."
      ],
      "execution_count": null,
      "outputs": [
        {
          "output_type": "stream",
          "name": "stdout",
          "text": [
            "0.11984796389414698\n",
            "6.530469518963291\n",
            "9.12\n",
            "[9.67, 10.2, 7.41, 10.51, 6.76, 8.81, 9.54, 6.62, 7.51, 7.01, 8.55, 10.02, 10.75, 5.52, 7.56, 9.57, 9.2, 6.83, 7.07, 9.48]\n"
          ]
        }
      ]
    },
    {
      "cell_type": "code",
      "metadata": {
        "colab": {
          "base_uri": "https://localhost:8080/"
        },
        "id": "blTzSZR4FPE-",
        "outputId": "763357bf-757a-4797-e3a0-2c8a622bfb98"
      },
      "source": [
        "import random\n",
        "valores = [round(random.uniform(5,11),2) for x in range(20)]\n",
        "print(valores)\n"
      ],
      "execution_count": null,
      "outputs": [
        {
          "output_type": "stream",
          "name": "stdout",
          "text": [
            "[6.98, 9.98, 8.64, 6.65, 6.84, 6.55, 8.14, 8.94, 5.31, 6.18, 10.62, 7.0, 7.52, 8.82, 10.0, 6.56, 6.89, 7.33, 7.5, 9.26]\n"
          ]
        }
      ]
    },
    {
      "cell_type": "markdown",
      "metadata": {
        "id": "Cd4mLxjm6B_1"
      },
      "source": [
        "# Estructura de control de repeticion Haz - mientras\n",
        "Nos permite ejecutar repetidamente mientras una condicion se siga cumpliendo.\n",
        "\n",
        "#Sintaxis\n",
        "while <condicion>:     \n",
        "    <Bloque que se va a ejecutar repetitivamente>\n",
        "Siguente sentencia\n",
        "\n",
        "La diferencia principal entre for y while, es que en while no se conoce las veces en las cuales se a va repetir, pero en while ese dato no esta definido.\n",
        "\n",
        "Introduce un numero entero positivo : 17 \n",
        "8.5\n",
        "4.25\n",
        "2.13\n",
        "1.06\n",
        "0.56\n",
        "Total de iteraciones = 5\n"
      ]
    },
    {
      "cell_type": "code",
      "metadata": {
        "colab": {
          "base_uri": "https://localhost:8080/"
        },
        "id": "cwGRecj57z25",
        "outputId": "29d9a4ef-a48e-4fa7-af5c-af297857d1e2"
      },
      "source": [
        "valor = int(input(\"Introduce un numero entero positivo: \"))\n",
        "contador = 0 \n",
        "if valor > 0 :\n",
        "    while valor > 1.0 :\n",
        "        valor = valor/2\n",
        "        print(round(valor,2))\n",
        "        contador += 1 \n",
        "else :\n",
        "    print(\"El numero es negativo, intenta de nuevo\")\n",
        "print(\"Total de iteraciones\", contador)"
      ],
      "execution_count": null,
      "outputs": [
        {
          "output_type": "stream",
          "name": "stdout",
          "text": [
            "Introduce un numero entero positivo: 78\n",
            "39.0\n",
            "19.5\n",
            "9.75\n",
            "4.88\n",
            "2.44\n",
            "1.22\n",
            "0.61\n",
            "Total de iteraciones 7\n"
          ]
        }
      ]
    },
    {
      "cell_type": "code",
      "metadata": {
        "colab": {
          "base_uri": "https://localhost:8080/"
        },
        "id": "mXWg8KoF8r3g",
        "outputId": "930b2dff-a88e-4306-ba96-b08cf3e644a6"
      },
      "source": [
        "valor = int(input(\"Introduce un numero entero: \"))\n",
        "\n",
        "while valor != 0 :\n",
        "    print(valor)\n",
        "    valor = int(input(\"Introduce un numero entero: \"))\n",
        "print(\"Fin del programa\")"
      ],
      "execution_count": null,
      "outputs": [
        {
          "output_type": "stream",
          "name": "stdout",
          "text": [
            "Introduce un numero entero: 4\n",
            "4\n",
            "Introduce un numero entero: 4\n",
            "4\n",
            "Introduce un numero entero: 4\n",
            "4\n",
            "Introduce un numero entero: 4\n",
            "4\n",
            "Introduce un numero entero: 4\n",
            "4\n",
            "Introduce un numero entero: 0\n",
            "Fin del programa\n"
          ]
        }
      ]
    },
    {
      "cell_type": "code",
      "metadata": {
        "colab": {
          "base_uri": "https://localhost:8080/"
        },
        "id": "3cWGIZZH_0g-",
        "outputId": "fafc5acc-b0fb-4992-f314-678a39594138"
      },
      "source": [
        "N = int(input(\"Ingresa un numero entero positivo: \"))\n",
        "if N > 0 :\n",
        "    print(\"Es correcto\")\n",
        "    for i in range(1,11) :\n",
        "        print(N,\"por\", i, \"es igual a :\" , N*i)\n",
        "\n",
        "else :\n",
        "    print(\"El numero ingresado no es correcto\")\n",
        "\n",
        "    "
      ],
      "execution_count": null,
      "outputs": [
        {
          "output_type": "stream",
          "name": "stdout",
          "text": [
            "Ingresa un numero entero positivo: 2\n",
            "Es correcto\n",
            "2 por 1 es igual a : 2\n",
            "2 por 2 es igual a : 4\n",
            "2 por 3 es igual a : 6\n",
            "2 por 4 es igual a : 8\n",
            "2 por 5 es igual a : 10\n",
            "2 por 6 es igual a : 12\n",
            "2 por 7 es igual a : 14\n",
            "2 por 8 es igual a : 16\n",
            "2 por 9 es igual a : 18\n",
            "2 por 10 es igual a : 20\n"
          ]
        }
      ]
    },
    {
      "cell_type": "code",
      "metadata": {
        "colab": {
          "base_uri": "https://localhost:8080/"
        },
        "id": "YFK93HXNCHLA",
        "outputId": "6b9e4e43-07dc-4c7a-d26b-ad8dac87140a"
      },
      "source": [
        "Comprobar = True \n",
        "while Comprobar == True :\n",
        "    N = int(input(\"Ingresa un numero entero positivo: \"))\n",
        "    if N > 0 :\n",
        "        i = 1\n",
        "        while i < 11 :\n",
        "            print(N, \"por\", i , \"es igual a:\", N*i)\n",
        "            i+=1 \n",
        "            Comprobar = False \n",
        "    else :\n",
        "        print(\"El numero ingresado no es correcto\")\n",
        "    \n",
        "\n"
      ],
      "execution_count": null,
      "outputs": [
        {
          "output_type": "stream",
          "name": "stdout",
          "text": [
            "Ingresa un numero entero positivo: -8\n",
            "El numero ingresado no es correcto\n",
            "Ingresa un numero entero positivo: -1\n",
            "El numero ingresado no es correcto\n",
            "Ingresa un numero entero positivo: 2\n",
            "2 por 1 es igual a: 2\n",
            "2 por 2 es igual a: 4\n",
            "2 por 3 es igual a: 6\n",
            "2 por 4 es igual a: 8\n",
            "2 por 5 es igual a: 10\n",
            "2 por 6 es igual a: 12\n",
            "2 por 7 es igual a: 14\n",
            "2 por 8 es igual a: 16\n",
            "2 por 9 es igual a: 18\n",
            "2 por 10 es igual a: 20\n"
          ]
        }
      ]
    },
    {
      "cell_type": "code",
      "metadata": {
        "colab": {
          "base_uri": "https://localhost:8080/"
        },
        "id": "TGKd3OWNKdKj",
        "outputId": "c2ca54d7-59a1-410b-8130-8323bb890e1f"
      },
      "source": [
        "N = int(input(\"Ingresa un numero entero positivo:\"))\n",
        "if N > 0 :\n",
        "    Resultado = 0\n",
        "    for i in range(1,N+1):\n",
        "        Resultado += (1/i)\n",
        "        print(\"El resultado de la serie es:\" , Resultado)\n",
        "else : \n",
        "    print(\"El numero ingresado no es correcto: \")"
      ],
      "execution_count": null,
      "outputs": [
        {
          "output_type": "stream",
          "name": "stdout",
          "text": [
            "Ingresa un numero entero positivo:4\n",
            "El resultado de la serie es: 1.0\n",
            "El resultado de la serie es: 1.5\n",
            "El resultado de la serie es: 1.8333333333333333\n",
            "El resultado de la serie es: 2.083333333333333\n"
          ]
        }
      ]
    },
    {
      "cell_type": "code",
      "metadata": {
        "id": "VjFY5dfPMbQh"
      },
      "source": [
        "Comprobar = True \n",
        "while Comprobar == True :\n",
        "    N = int(input(\"Ingresa un numero entero positivo:\"))\n",
        "    if N > 0 :\n",
        "          Comprobar == False\n",
        "          Resultado = 0\n",
        "          for i in range(1,N+1):\n",
        "              Resultado += (1/i)\n",
        "          print(\"El resultado de la serie es:\" , Resultado)\n",
        "else : \n",
        "    print(\"El numero ingresado no es correcto: \")"
      ],
      "execution_count": null,
      "outputs": []
    },
    {
      "cell_type": "markdown",
      "metadata": {
        "id": "wSk0jzP8Rssk"
      },
      "source": [
        "# Estructura Do-while\n",
        "### Lo mismo que el while, primero hace y despues pregunta (evalua)\n",
        "en python no existe el Do-While como tal, se emplea while para suprirlo"
      ]
    },
    {
      "cell_type": "code",
      "metadata": {
        "id": "KXPZvwkcTthi"
      },
      "source": [
        "#include <stdio.h>\n",
        "\n",
        "int main()\n",
        "{\n",
        "    int valor = 0;\n",
        "    printf(\"Dame un valor entero:\");\n",
        "    scanf(\"%i\",&valor);\n",
        "    while(valor != 0){\n",
        "        printf(\"%i \\n\",valor);\n",
        "        printf(\"Dame un valor entero:\");\n",
        "        scanf(\"%i\",&valor);\n",
        "    }\n",
        "    printf(\"-.-.-.-.-.-.-.-.-.-.-.-.-. con do while\");\n",
        "    printf(\"Fin del programa\\n\");\n",
        "    do{\n",
        "        printf(\"%i \\n\",valor);\n",
        "        printf(\"Dame un valor entero:\");\n",
        "        scanf(\"%i\",&valor);\n",
        "        \n",
        "    }while (valor != 0);\n",
        "\n",
        "    return 0;"
      ],
      "execution_count": null,
      "outputs": []
    }
  ]
}