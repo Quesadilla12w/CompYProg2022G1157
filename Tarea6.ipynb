{
  "nbformat": 4,
  "nbformat_minor": 0,
  "metadata": {
    "colab": {
      "name": "Tarea6.ipynb",
      "provenance": [],
      "collapsed_sections": []
    },
    "kernelspec": {
      "name": "python3",
      "display_name": "Python 3"
    },
    "language_info": {
      "name": "python"
    }
  },
  "cells": [
    {
      "cell_type": "code",
      "metadata": {
        "colab": {
          "base_uri": "https://localhost:8080/"
        },
        "id": "FdyVuH6mcMJR",
        "outputId": "2127e4fb-1303-4195-d1c9-2da5322fa6b0"
      },
      "source": [
        "#Problema 2.1\n",
        "N = int(input(\"Introduce el numero de sonidos por minuto:\"))\n",
        "T = float(N / 4 + 40)\n",
        "if N > 0 :\n",
        "    print(\"La temperatura es:\" ,T)\n",
        "print(\"Fin del programa\")\n"
      ],
      "execution_count": null,
      "outputs": [
        {
          "output_type": "stream",
          "name": "stdout",
          "text": [
            "Introduce el numero de sonidos por minuto:3\n",
            "La temperatura es: 40.75\n",
            "Fin del programa\n"
          ]
        }
      ]
    },
    {
      "cell_type": "code",
      "metadata": {
        "id": "y1YLV1T3f-rN"
      },
      "source": [
        "#Problema 2.2\n",
        "P = int(input(\"Introduce un numero entero:\"))\n",
        "Q = int(input(\"Introduce otro numero entero:\"))\n",
        "EXP = P**3+Q**4-2*P**2\n",
        "if EXP < 680 :\n",
        "    print(P,Q)\n",
        "print(\"Fin del programa\")\n"
      ],
      "execution_count": null,
      "outputs": []
    },
    {
      "cell_type": "code",
      "metadata": {
        "id": "c2qSCBD1jNiH"
      },
      "source": [
        "#Problema 2.3\n",
        "A = float(input(\"Ingrese un numero diferente de 0 :\"))\n",
        "B = float(input(\"Ingrese otro numero:\"))\n",
        "C = float(input(\"Ingrese otro numero:\"))\n",
        "DIS = B**2-4*A*C\n",
        "if DIS >= 0 :\n",
        "    X1 = ((-B)+DIS**0.5)/(2*A)\n",
        "    X2 = ((-B)-DIS**0.5)/(2*A)\n",
        "    print(f\"Raices reales:\\n  X1:{X1}\\t X2:{X2}\")\n",
        "print(\"Fin del programa\")\n"
      ],
      "execution_count": null,
      "outputs": []
    },
    {
      "cell_type": "code",
      "metadata": {
        "id": "-ho9Qi4l88oq",
        "colab": {
          "base_uri": "https://localhost:8080/"
        },
        "outputId": "afa71d03-0655-477c-a67d-33ba9a65917d"
      },
      "source": [
        "#Problema 2.4\n",
        "MAT = int(input(\"Ingresa el numero de tu matricula de alumno :\"))\n",
        "CAL1 = float(input(\"Ingresa tu calificacion :\"))\n",
        "CAL2 = float(input(\"Ingresa tu calificacion :\"))\n",
        "CAL3 = float(input(\"Ingresa tu calificacion :\"))\n",
        "CAL4 = float(input(\"Ingresa tu calificacion :\"))\n",
        "CAL5 = float(input(\"Ingresa tu calificacion :\"))\n",
        "PRO = float(CAL1+CAL2+CAL3+CAL4+CAL5)/5\n",
        "if PRO >= 6 :\n",
        "    print(f\"Matricula: {MAT} Promedio: {PRO} \\n APROBADO  \")\n",
        "else :\n",
        "    print(f\"Matricula: {MAT} Promedio: {PRO} \\n NO APROBADO  \")\n",
        "print(\"Fin del protgrama\")\n",
        "\n"
      ],
      "execution_count": null,
      "outputs": [
        {
          "output_type": "stream",
          "name": "stdout",
          "text": [
            "Ingresa el numero de tu matricula de alumno :18250\n",
            "Ingresa tu calificacion :9\n",
            "Ingresa tu calificacion :9.25\n",
            "Ingresa tu calificacion :8.10\n",
            "Ingresa tu calificacion :9.80\n",
            "Ingresa tu calificacion :10\n",
            "Matricula: 18250 Promedio: 9.23 \n",
            " APROBADO  \n",
            "Fin del protgrama\n"
          ]
        }
      ]
    },
    {
      "cell_type": "code",
      "metadata": {
        "colab": {
          "base_uri": "https://localhost:8080/"
        },
        "id": "LyQVt5N0CscM",
        "outputId": "6d93850c-b9b3-4283-ecda-8b6de9474c8d"
      },
      "source": [
        "#Problema 2.5\n",
        "NUM = int(input(\"Ingresa un numero entero: \"))\n",
        "if NUM > 0 :\n",
        "    print(\"POSITIVO\")\n",
        "else :\n",
        "    if NUM == 0 :\n",
        "        print(\"NULO\")\n",
        "    else :\n",
        "        print(\"NEGATIVO\")\n",
        "print(\"Fin del programa\")"
      ],
      "execution_count": null,
      "outputs": [
        {
          "output_type": "stream",
          "name": "stdout",
          "text": [
            "Ingresa un numero entero: -7\n",
            "NEGATIVO\n",
            "Fin del programa\n"
          ]
        }
      ]
    },
    {
      "cell_type": "code",
      "metadata": {
        "id": "eAaQgA5REbzg",
        "colab": {
          "base_uri": "https://localhost:8080/"
        },
        "outputId": "44ac5d8a-2a2c-4916-b352-b46551382088"
      },
      "source": [
        "#Problema 2.6\n",
        "A = int(input(\"Ingresa un numero: \"))\n",
        "if A == 0 :\n",
        "    print(\"NULO\")\n",
        "else :\n",
        "    if (-1)**A > 0 :\n",
        "        print(\"PAR\")\n",
        "    else :\n",
        "        print(\"IMPAR\")\n",
        "     \n",
        "print(\"Fin del programa\")\n",
        "    \n"
      ],
      "execution_count": null,
      "outputs": [
        {
          "output_type": "stream",
          "name": "stdout",
          "text": [
            "Ingresa un numero: 0\n",
            "NULO\n",
            "Fin del programa\n"
          ]
        }
      ]
    },
    {
      "cell_type": "code",
      "metadata": {
        "colab": {
          "base_uri": "https://localhost:8080/"
        },
        "id": "hrzozEW5i6sb",
        "outputId": "3a9cad5b-2b81-44bc-e237-29b14f802bd6"
      },
      "source": [
        "#Problema 2.7\n",
        "A = int(input(\"Ingresa un numero: \"))\n",
        "B = int(input(\"Ingresa otro numero diferente: \"))\n",
        "C = int(input(\"Ingresa otro  numero diferente: \"))\n",
        "if A < B :\n",
        "    if B < C :\n",
        "        print(\"Los numeros estan en orden creciente\")\n",
        "    else :\n",
        "        print(\"Los numeros no estan en orden creciente\")\n",
        "else :\n",
        "    print(\"Los numeros no estan en orden creciente\")\n",
        "print(\"Fin del programa\")\n"
      ],
      "execution_count": null,
      "outputs": [
        {
          "output_type": "stream",
          "name": "stdout",
          "text": [
            "Ingresa un numero: 6\n",
            "Ingresa otro numero diferente: 5\n",
            "Ingresa otro  numero diferente: 4\n",
            "Los numeros no estan en orden creciente\n",
            "Fin del programa\n"
          ]
        }
      ]
    },
    {
      "cell_type": "code",
      "metadata": {
        "colab": {
          "base_uri": "https://localhost:8080/"
        },
        "id": "ZcphH5WYk7Br",
        "outputId": "cdb0ae7f-059a-42d8-e9ea-a5e04357fc00"
      },
      "source": [
        "#Problema 2.8\n",
        "COMPRA = float(input(\"Ingrese el monto total de la compra: \"))\n",
        "PAGAR = float(COMPRA)\n",
        "if COMPRA < 500 :\n",
        "    COMPRA == PAGAR\n",
        "else : \n",
        "    if COMPRA <= 1000 :\n",
        "        PAGAR = COMPRA-(COMPRA*0.05)\n",
        "    else :\n",
        "        if COMPRA <= 7000 :\n",
        "            PAGAR = COMPRA-(COMPRA*0.11)\n",
        "        else :\n",
        "            if COMPRA <= 15000 :\n",
        "                PAGAR = COMPRA-(COMPRA*0.18)\n",
        "            else :\n",
        "                PAGAR = COMPRA-(COMPRA*0.25)\n",
        "print(f\"Monto total a pagar: {PAGAR} \")\n",
        "\n",
        "\n",
        "\n",
        "            \n"
      ],
      "execution_count": null,
      "outputs": [
        {
          "output_type": "stream",
          "name": "stdout",
          "text": [
            "Ingrese el monto total de la compra: 25314.18\n",
            "Monto total a pagar: 18985.635000000002 \n"
          ]
        }
      ]
    },
    {
      "cell_type": "code",
      "metadata": {
        "id": "58r4CPU9xiJY",
        "colab": {
          "base_uri": "https://localhost:8080/"
        },
        "outputId": "82a1dc1f-dfb0-42f7-cc70-af518f711fc6"
      },
      "source": [
        "#Problema 2.9\n",
        "PREBAS = float(input(\"Ingresa el costo basico del producto: \"))\n",
        "if PREBAS > 500 :\n",
        "    IMP = 20*0.30+(PREBAS-40)*0.50\n",
        "else :\n",
        "    if PREBAS > 40 :\n",
        "        IMP = 20*0.30+(PREBAS-40)*0.40\n",
        "    else :\n",
        "        if PREBAS > 20 :\n",
        "            IMP = (PREBAS-20)*0.30\n",
        "        else :\n",
        "            IMP = 0\n",
        "PRETOT = PREBAS + IMP\n",
        "print(f\"Costo basico del producto: {PREBAS} Costo total del producto: {PRETOT}\")\n",
        "\n"
      ],
      "execution_count": null,
      "outputs": [
        {
          "output_type": "stream",
          "name": "stdout",
          "text": [
            "Ingresa el costo basico del producto: 217.80\n",
            "Costo basico del producto: 217.8 Costo total del producto: 294.92\n"
          ]
        }
      ]
    },
    {
      "cell_type": "code",
      "metadata": {
        "colab": {
          "base_uri": "https://localhost:8080/"
        },
        "id": "wih-57yOubsU",
        "outputId": "5c73dfbe-a12a-4a28-ed5b-3eb15eafc7eb"
      },
      "source": [
        "#Problema 2.10\n",
        "A = float(input(\"Ingrese un numero:\"))\n",
        "B = float(input(\"Ingrese otro numero:\"))\n",
        "C = float(input(\"Ingrese otro numero:\"))\n",
        "if A > B : \n",
        "    if A > C :\n",
        "        print(\"A es el mayor\")\n",
        "    else :\n",
        "        if A == C :\n",
        "            print(\"A Y C son los mayores\")\n",
        "        else :\n",
        "            print(\"C el es mayor\")\n",
        "else :\n",
        "    if A == B :\n",
        "        if A > C :\n",
        "            print(\"A y B son los mayores\")\n",
        "        else :\n",
        "            if A == C :\n",
        "                print(\"A,B Y C son iguales\")\n",
        "            else :\n",
        "                print(\"C es el mayor\")\n",
        "    else :\n",
        "        if B > C :\n",
        "            print(\"B es el mayor\") \n",
        "        else :\n",
        "            if B == C :\n",
        "                print(\"B Y C son los mayores\")\n",
        "            else :\n",
        "                print(\"C es el mayor\")\n",
        "print(\"Fin del programa\")\n",
        "\n",
        " \n",
        "\n"
      ],
      "execution_count": null,
      "outputs": [
        {
          "output_type": "stream",
          "name": "stdout",
          "text": [
            "Ingrese un numero:17\n",
            "Ingrese otro numero:17\n",
            "Ingrese otro numero:17\n",
            "A,B Y C son iguales\n",
            "Fin del programa\n"
          ]
        }
      ]
    },
    {
      "cell_type": "code",
      "metadata": {
        "colab": {
          "base_uri": "https://localhost:8080/"
        },
        "id": "K4SMw2eg2_d-",
        "outputId": "d0ac8682-4d93-453a-db5f-2498d4d1ae01"
      },
      "source": [
        "#Problema 2.11\n",
        "CLAVE = int(input(\"Ingrese la clave de la zona geografica a la cual realizo la llamada:\"))\n",
        "NUMIN = int(input(\"Duracion de la llamada:\"))\n",
        "if CLAVE == 12 :\n",
        "    COST = NUMIN*2\n",
        "elif CLAVE == 15 :\n",
        "    COST = NUMIN*2.2\n",
        "elif CLAVE == 18 :\n",
        "    COST = NUMIN*4.5\n",
        "elif CLAVE == 19 :\n",
        "    COST = NUMIN*3.5\n",
        "elif CLAVE == 23 :\n",
        "    COST = NUMIN*6\n",
        "elif CLAVE == 25 :\n",
        "    COST = NUMIN*6\n",
        "elif CLAVE == 29 :\n",
        "    COST = NUMIN*5\n",
        "print(f\"Costo total de la llamada: {COST}\")\n",
        "\n",
        "\n"
      ],
      "execution_count": null,
      "outputs": [
        {
          "output_type": "stream",
          "name": "stdout",
          "text": [
            "Ingrese la clave de la zona geografica a la cual realizo la llamada:25\n",
            "Duracion de la llamada:5\n",
            "Costo total de la llamada: 30\n"
          ]
        }
      ]
    },
    {
      "cell_type": "code",
      "metadata": {
        "id": "mt8Xty1o_hXg",
        "colab": {
          "base_uri": "https://localhost:8080/"
        },
        "outputId": "d91f9618-282b-4357-a5d1-02a7c26a5f03"
      },
      "source": [
        "#Problema 2.12\n",
        "SUE = float(input(\"Ingrese el sueldo base:\"))\n",
        "CATE = int(input(\"Ingrese la categoria de trabajador:\"))\n",
        "HE = int(input(\"Ingrese el numero de horas extras trabajadas:\"))\n",
        "if CATE == 1 :\n",
        "    PHE = 30\n",
        "elif CATE == 2 :\n",
        "    PHE = 38\n",
        "elif CATE == 3 :\n",
        "    PHE = 50\n",
        "elif CATE == 4 :\n",
        "    PHE = 70\n",
        "elif CATE > 4 :\n",
        "    PHE = 0\n",
        "if HE > 30 :\n",
        "    NSUE = SUE+(30*PHE)\n",
        "else :\n",
        "    NSUE = SUE+(HE*PHE)\n",
        "print(f\"Sueldo total incluyendo horas extra: {NSUE}\")\n",
        "\n"
      ],
      "execution_count": null,
      "outputs": [
        {
          "output_type": "stream",
          "name": "stdout",
          "text": [
            "Ingrese el sueldo base:3200\n",
            "Ingrese la categoria de trabajador:3\n",
            "Ingrese el numero de horas extras trabajadas:8\n",
            "Sueldo total incluyendo horas extra: 3600.0\n"
          ]
        }
      ]
    },
    {
      "cell_type": "code",
      "metadata": {
        "colab": {
          "base_uri": "https://localhost:8080/"
        },
        "id": "UsorP64K4Hqu",
        "outputId": "8c51a6bc-83ed-40f4-d0ae-ce14c48c2024"
      },
      "source": [
        "MAT = int(input(\"Ingresa la matricula de alumno: \"))\n",
        "CARR = str(input(\"Ingresa la carrera en la cual estas inscrito: \"))\n",
        "SEM = int(input(\"Introduce el Semestre al que perteneces: \"))\n",
        "PROM = float(input(\"Ingresa tu promedio: \"))\n",
        "if CARR == \"Economia\" :\n",
        "    if SEM >= 8 and PROM >= 8.8 :\n",
        "        print(f\" {MAT} , {CARR}\\n Aceptado  \")\n",
        "elif CARR == \"Computacion\" :\n",
        "    if SEM > 6 and PROM > 8.6 :\n",
        "        print(f\" {MAT} , {CARR}\\n Aceptado  \")\n",
        "elif CARR == \"Contabilidad\" or \"Administracion\" :\n",
        "    if SEM > 5 and PROM > 8.5 :\n",
        "        print(f\" {MAT} , {CARR}\\n Aceptado  \")\n",
        "print(\"Fin del programa\")\n",
        "\n",
        "\n"
      ],
      "execution_count": 12,
      "outputs": [
        {
          "output_type": "stream",
          "name": "stdout",
          "text": [
            "Ingresa la matricula de alumno: 26100\n",
            "Ingresa la carrera en la cual estas inscrito: Computacion\n",
            "Introduce el Semestre al que perteneces: 6\n",
            "Ingresa tu promedio: 9.2\n",
            "Fin del programa\n"
          ]
        }
      ]
    }
  ]
}