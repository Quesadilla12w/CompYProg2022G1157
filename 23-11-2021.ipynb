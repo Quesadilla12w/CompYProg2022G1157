{
  "nbformat": 4,
  "nbformat_minor": 0,
  "metadata": {
    "colab": {
      "name": "Fundamentos2_CyP_1157",
      "provenance": [],
      "collapsed_sections": []
    },
    "kernelspec": {
      "name": "python3",
      "display_name": "Python 3"
    },
    "language_info": {
      "name": "python"
    }
  },
  "cells": [
    {
      "cell_type": "markdown",
      "metadata": {
        "id": "njM7WlLNFfcz"
      },
      "source": [
        "# Tipos de datos estructurados en python\n",
        "\n",
        "1. Listas\n",
        "2. Tuplas\n",
        "3. Diccionario\n",
        "4. Conjuntos\n"
      ]
    },
    {
      "cell_type": "markdown",
      "metadata": {
        "id": "Tu7z3uYQFutK"
      },
      "source": [
        "# Las listas\n",
        " -Tipo de dato que agrupa variables o valores.\n",
        " - Estructura secuencial. (indexado comenzando con 0)\n",
        " - Se declara de dos formas.\n",
        "  - usando [ ]\n",
        "  - usando lis()\n",
        "- Puede contener tipos de datos diversos.\n",
        "- Los elementos internos se seleccionan con [ ]\n",
        "- Soporta slicing\n",
        "- Son mutables. (a lo largo del programa pueden cambiar de valor)\n",
        "-GENERADORES [Variable for x in range(10) ]\n",
        "-Al ser una clase contiene muchos metodos utiles.\n",
        "\n"
      ]
    },
    {
      "cell_type": "code",
      "metadata": {
        "colab": {
          "base_uri": "https://localhost:8080/"
        },
        "id": "XM4E1LMfG98S",
        "outputId": "74cb394a-4d59-4683-cbff-7ed38bbd9f45"
      },
      "source": [
        "numeros = [10, 5 , 2 , 3 , 1 ]\n",
        "print(numeros)\n",
        "numeros2 = list()\n",
        "numeros2.append(10)\n",
        "numeros2.append(5)\n",
        "numeros2.append(2)\n",
        "numeros2.append(3)\n",
        "numeros2.append(1)\n",
        "print(numeros2)\n",
        "numeros[2] = 20\n",
        "print(numeros)\n",
        "numeros[4] = 33\n",
        "print(numeros)\n",
        "numeros.append(88)\n",
        "print(numeros)\n"
      ],
      "execution_count": null,
      "outputs": [
        {
          "output_type": "stream",
          "name": "stdout",
          "text": [
            "[10, 5, 2, 3, 1]\n",
            "[10, 5, 2, 3, 1]\n",
            "[10, 5, 20, 3, 1]\n",
            "[10, 5, 20, 3, 33]\n",
            "[10, 5, 20, 3, 33, 88]\n"
          ]
        }
      ]
    },
    {
      "cell_type": "code",
      "metadata": {
        "colab": {
          "base_uri": "https://localhost:8080/"
        },
        "id": "IzMEOo38IcQD",
        "outputId": "f6dd8056-bcc3-459e-96c2-4951580cf545"
      },
      "source": [
        "# tipos diversos\n",
        "cosas = [12,2,True,\"Jose\",1.57, [\"pera\",\"kiwi\",\"uva\" ] ]\n",
        "print(cosas)\n",
        "print(cosas[1])\n",
        "print(cosas[4])\n",
        "print(cosas[5])\n",
        "print(cosas[5][1])\n",
        "print(cosas[3][1:3:])\n",
        "cosas [3] = cosas[3 ].upper()\n",
        "print(cosas)"
      ],
      "execution_count": null,
      "outputs": [
        {
          "output_type": "stream",
          "name": "stdout",
          "text": [
            "[12, 2, True, 'Jose', 1.57, ['pera', 'kiwi', 'uva']]\n",
            "2\n",
            "1.57\n",
            "['pera', 'kiwi', 'uva']\n",
            "kiwi\n",
            "os\n",
            "[12, 2, True, 'JOSE', 1.57, ['pera', 'kiwi', 'uva']]\n"
          ]
        }
      ]
    },
    {
      "cell_type": "code",
      "metadata": {
        "colab": {
          "base_uri": "https://localhost:8080/"
        },
        "id": "ET_Mf47iL6EE",
        "outputId": "63f9d793-5d34-4c83-9abd-b6000396f2a2"
      },
      "source": [
        "numeros = [1,2,3,4,5,6,7,8,9,10,11 ]\n",
        "print(numeros)\n",
        "#slicing del 4 al 8\n",
        "print(numeros[3:8:])\n",
        "# 9,10\n",
        "print(numeros[-3:-1:])\n",
        "# imprimir la lista en orde inverso\n",
        "print(numeros[::-1])\n",
        "\n",
        "\n",
        "\n",
        "\n"
      ],
      "execution_count": null,
      "outputs": [
        {
          "output_type": "stream",
          "name": "stdout",
          "text": [
            "[1, 2, 3, 4, 5, 6, 7, 8, 9, 10, 11]\n",
            "[4, 5, 6, 7, 8]\n",
            "[9, 10]\n",
            "[11, 10, 9, 8, 7, 6, 5, 4, 3, 2, 1]\n"
          ]
        }
      ]
    },
    {
      "cell_type": "code",
      "metadata": {
        "colab": {
          "base_uri": "https://localhost:8080/"
        },
        "id": "1oZWaMkdPn_7",
        "outputId": "39b6b938-242a-4852-8883-dc69783bca5f"
      },
      "source": [
        "#Crear una lista con un generador.\n",
        "numeros = [ x*3 for x in range(1001)]\n",
        "print(numeros)"
      ],
      "execution_count": null,
      "outputs": [
        {
          "output_type": "stream",
          "name": "stdout",
          "text": [
            "[0, 3, 6, 9, 12, 15, 18, 21, 24, 27, 30, 33, 36, 39, 42, 45, 48, 51, 54, 57, 60, 63, 66, 69, 72, 75, 78, 81, 84, 87, 90, 93, 96, 99, 102, 105, 108, 111, 114, 117, 120, 123, 126, 129, 132, 135, 138, 141, 144, 147, 150, 153, 156, 159, 162, 165, 168, 171, 174, 177, 180, 183, 186, 189, 192, 195, 198, 201, 204, 207, 210, 213, 216, 219, 222, 225, 228, 231, 234, 237, 240, 243, 246, 249, 252, 255, 258, 261, 264, 267, 270, 273, 276, 279, 282, 285, 288, 291, 294, 297, 300, 303, 306, 309, 312, 315, 318, 321, 324, 327, 330, 333, 336, 339, 342, 345, 348, 351, 354, 357, 360, 363, 366, 369, 372, 375, 378, 381, 384, 387, 390, 393, 396, 399, 402, 405, 408, 411, 414, 417, 420, 423, 426, 429, 432, 435, 438, 441, 444, 447, 450, 453, 456, 459, 462, 465, 468, 471, 474, 477, 480, 483, 486, 489, 492, 495, 498, 501, 504, 507, 510, 513, 516, 519, 522, 525, 528, 531, 534, 537, 540, 543, 546, 549, 552, 555, 558, 561, 564, 567, 570, 573, 576, 579, 582, 585, 588, 591, 594, 597, 600, 603, 606, 609, 612, 615, 618, 621, 624, 627, 630, 633, 636, 639, 642, 645, 648, 651, 654, 657, 660, 663, 666, 669, 672, 675, 678, 681, 684, 687, 690, 693, 696, 699, 702, 705, 708, 711, 714, 717, 720, 723, 726, 729, 732, 735, 738, 741, 744, 747, 750, 753, 756, 759, 762, 765, 768, 771, 774, 777, 780, 783, 786, 789, 792, 795, 798, 801, 804, 807, 810, 813, 816, 819, 822, 825, 828, 831, 834, 837, 840, 843, 846, 849, 852, 855, 858, 861, 864, 867, 870, 873, 876, 879, 882, 885, 888, 891, 894, 897, 900, 903, 906, 909, 912, 915, 918, 921, 924, 927, 930, 933, 936, 939, 942, 945, 948, 951, 954, 957, 960, 963, 966, 969, 972, 975, 978, 981, 984, 987, 990, 993, 996, 999, 1002, 1005, 1008, 1011, 1014, 1017, 1020, 1023, 1026, 1029, 1032, 1035, 1038, 1041, 1044, 1047, 1050, 1053, 1056, 1059, 1062, 1065, 1068, 1071, 1074, 1077, 1080, 1083, 1086, 1089, 1092, 1095, 1098, 1101, 1104, 1107, 1110, 1113, 1116, 1119, 1122, 1125, 1128, 1131, 1134, 1137, 1140, 1143, 1146, 1149, 1152, 1155, 1158, 1161, 1164, 1167, 1170, 1173, 1176, 1179, 1182, 1185, 1188, 1191, 1194, 1197, 1200, 1203, 1206, 1209, 1212, 1215, 1218, 1221, 1224, 1227, 1230, 1233, 1236, 1239, 1242, 1245, 1248, 1251, 1254, 1257, 1260, 1263, 1266, 1269, 1272, 1275, 1278, 1281, 1284, 1287, 1290, 1293, 1296, 1299, 1302, 1305, 1308, 1311, 1314, 1317, 1320, 1323, 1326, 1329, 1332, 1335, 1338, 1341, 1344, 1347, 1350, 1353, 1356, 1359, 1362, 1365, 1368, 1371, 1374, 1377, 1380, 1383, 1386, 1389, 1392, 1395, 1398, 1401, 1404, 1407, 1410, 1413, 1416, 1419, 1422, 1425, 1428, 1431, 1434, 1437, 1440, 1443, 1446, 1449, 1452, 1455, 1458, 1461, 1464, 1467, 1470, 1473, 1476, 1479, 1482, 1485, 1488, 1491, 1494, 1497, 1500, 1503, 1506, 1509, 1512, 1515, 1518, 1521, 1524, 1527, 1530, 1533, 1536, 1539, 1542, 1545, 1548, 1551, 1554, 1557, 1560, 1563, 1566, 1569, 1572, 1575, 1578, 1581, 1584, 1587, 1590, 1593, 1596, 1599, 1602, 1605, 1608, 1611, 1614, 1617, 1620, 1623, 1626, 1629, 1632, 1635, 1638, 1641, 1644, 1647, 1650, 1653, 1656, 1659, 1662, 1665, 1668, 1671, 1674, 1677, 1680, 1683, 1686, 1689, 1692, 1695, 1698, 1701, 1704, 1707, 1710, 1713, 1716, 1719, 1722, 1725, 1728, 1731, 1734, 1737, 1740, 1743, 1746, 1749, 1752, 1755, 1758, 1761, 1764, 1767, 1770, 1773, 1776, 1779, 1782, 1785, 1788, 1791, 1794, 1797, 1800, 1803, 1806, 1809, 1812, 1815, 1818, 1821, 1824, 1827, 1830, 1833, 1836, 1839, 1842, 1845, 1848, 1851, 1854, 1857, 1860, 1863, 1866, 1869, 1872, 1875, 1878, 1881, 1884, 1887, 1890, 1893, 1896, 1899, 1902, 1905, 1908, 1911, 1914, 1917, 1920, 1923, 1926, 1929, 1932, 1935, 1938, 1941, 1944, 1947, 1950, 1953, 1956, 1959, 1962, 1965, 1968, 1971, 1974, 1977, 1980, 1983, 1986, 1989, 1992, 1995, 1998, 2001, 2004, 2007, 2010, 2013, 2016, 2019, 2022, 2025, 2028, 2031, 2034, 2037, 2040, 2043, 2046, 2049, 2052, 2055, 2058, 2061, 2064, 2067, 2070, 2073, 2076, 2079, 2082, 2085, 2088, 2091, 2094, 2097, 2100, 2103, 2106, 2109, 2112, 2115, 2118, 2121, 2124, 2127, 2130, 2133, 2136, 2139, 2142, 2145, 2148, 2151, 2154, 2157, 2160, 2163, 2166, 2169, 2172, 2175, 2178, 2181, 2184, 2187, 2190, 2193, 2196, 2199, 2202, 2205, 2208, 2211, 2214, 2217, 2220, 2223, 2226, 2229, 2232, 2235, 2238, 2241, 2244, 2247, 2250, 2253, 2256, 2259, 2262, 2265, 2268, 2271, 2274, 2277, 2280, 2283, 2286, 2289, 2292, 2295, 2298, 2301, 2304, 2307, 2310, 2313, 2316, 2319, 2322, 2325, 2328, 2331, 2334, 2337, 2340, 2343, 2346, 2349, 2352, 2355, 2358, 2361, 2364, 2367, 2370, 2373, 2376, 2379, 2382, 2385, 2388, 2391, 2394, 2397, 2400, 2403, 2406, 2409, 2412, 2415, 2418, 2421, 2424, 2427, 2430, 2433, 2436, 2439, 2442, 2445, 2448, 2451, 2454, 2457, 2460, 2463, 2466, 2469, 2472, 2475, 2478, 2481, 2484, 2487, 2490, 2493, 2496, 2499, 2502, 2505, 2508, 2511, 2514, 2517, 2520, 2523, 2526, 2529, 2532, 2535, 2538, 2541, 2544, 2547, 2550, 2553, 2556, 2559, 2562, 2565, 2568, 2571, 2574, 2577, 2580, 2583, 2586, 2589, 2592, 2595, 2598, 2601, 2604, 2607, 2610, 2613, 2616, 2619, 2622, 2625, 2628, 2631, 2634, 2637, 2640, 2643, 2646, 2649, 2652, 2655, 2658, 2661, 2664, 2667, 2670, 2673, 2676, 2679, 2682, 2685, 2688, 2691, 2694, 2697, 2700, 2703, 2706, 2709, 2712, 2715, 2718, 2721, 2724, 2727, 2730, 2733, 2736, 2739, 2742, 2745, 2748, 2751, 2754, 2757, 2760, 2763, 2766, 2769, 2772, 2775, 2778, 2781, 2784, 2787, 2790, 2793, 2796, 2799, 2802, 2805, 2808, 2811, 2814, 2817, 2820, 2823, 2826, 2829, 2832, 2835, 2838, 2841, 2844, 2847, 2850, 2853, 2856, 2859, 2862, 2865, 2868, 2871, 2874, 2877, 2880, 2883, 2886, 2889, 2892, 2895, 2898, 2901, 2904, 2907, 2910, 2913, 2916, 2919, 2922, 2925, 2928, 2931, 2934, 2937, 2940, 2943, 2946, 2949, 2952, 2955, 2958, 2961, 2964, 2967, 2970, 2973, 2976, 2979, 2982, 2985, 2988, 2991, 2994, 2997, 3000]\n"
          ]
        }
      ]
    },
    {
      "cell_type": "markdown",
      "metadata": {
        "id": "QERSsilKQXMr"
      },
      "source": [
        "#Funcion rango\n",
        "- Tiene los mismos componentes que slicing, inicio,stop, incremento.\n",
        "range(1,101,1) "
      ]
    },
    {
      "cell_type": "code",
      "metadata": {
        "colab": {
          "base_uri": "https://localhost:8080/"
        },
        "id": "vVGn7qwuQslJ",
        "outputId": "cd57178b-8919-4f42-cb04-3c2bbd135a43"
      },
      "source": [
        "numeros = [ x for x in range(50,101,2)]\n",
        "print(numeros)"
      ],
      "execution_count": null,
      "outputs": [
        {
          "output_type": "stream",
          "name": "stdout",
          "text": [
            "[50, 52, 54, 56, 58, 60, 62, 64, 66, 68, 70, 72, 74, 76, 78, 80, 82, 84, 86, 88, 90, 92, 94, 96, 98, 100]\n"
          ]
        }
      ]
    },
    {
      "cell_type": "markdown",
      "metadata": {
        "id": "ljNZscpfRIBD"
      },
      "source": [
        "# Los metodos disponibles de las listas.\n"
      ]
    },
    {
      "cell_type": "code",
      "metadata": {
        "id": "_Arh0dZLRRQq"
      },
      "source": [
        "numeros = [4,1,15,15,8,22,34,50 ]\n",
        "print(numeros)\n",
        "#append\n",
        "numeros.append(99)\n",
        "print(numeros)\n",
        "#clear\n",
        "numeros.clear()\n",
        "print(numeros)\n",
        "\n",
        "frutas = [\"uvas\" , \"kiwi\" , \"manzana\" ]\n",
        "copia = frutas\n",
        "print(frutas)\n",
        "print(copia)\n",
        "frutas.append(\"Naranjas\")\n",
        "print(frutas)\n",
        "print(copia)\n",
        "\n",
        "colores = [\"rojo\" , \"azul\" , \"blanco\" ]\n",
        "copia2 = colores.copy()\n",
        "print(colores)\n",
        "print(copia2)\n",
        "colores.append(\"verde\")\n",
        "print(colores)\n",
        "print(copia2)\n",
        "\n",
        "print(\"Numero de veces que aparece el 15:\" , numeros.count(15))\n",
        "\n",
        "#extend\n",
        "nombre = [\"Jose\" , \"pedor\" , \"karina\"]\n",
        "otrosnombres = [\"Josue\", \"diana\" , \"dalia\" ]\n",
        "\n",
        "print(nombre)\n",
        "print(otrosnombres)\n",
        "\n",
        "nombres = nombre + otrosnombres\n",
        "\n",
        "print(nombres)\n",
        "\n",
        "# lo mismo con el metodo extended\n",
        "otrosnombres.extend([\"jesus\" , \"maria\" , \"jose\" ])\n",
        "print(otrosnombres)\n",
        "print(\"jesus esta en la posicion:\" , otrosnombres.index(\"jesus\"))\n",
        "otrosnombres.insert(4, \"Espiritu santo\")\n",
        "print(otrosnombres)\n",
        "# pop\n",
        "resultado = otrosnombres.pop()\n",
        "print(resultado)\n",
        "\n",
        "\n",
        "\n",
        "\n",
        "\n"
      ],
      "execution_count": null,
      "outputs": []
    },
    {
      "cell_type": "markdown",
      "metadata": {
        "id": "JXi7b2anv7ZF"
      },
      "source": [
        "#Tuplas\n",
        "### Caracteristicas de las tuplas.\n",
        "\n",
        "-Son datos agrupados\n",
        "-Pueden tener de 0 a n elementos.\n",
        "-NO son mutables.\n",
        "-No se puede eliminar, cambiar.\n",
        "-Pueden almacenar informacion de diferentes tipos de datos.\n",
        "-Pueden estar anidadas.\n",
        "-Estructura secuencial, indexada a partir de 0.\n",
        "-Tiene metodos utiles.\n",
        "-Se declara usando () o tuple()\n"
      ]
    },
    {
      "cell_type": "code",
      "metadata": {
        "colab": {
          "base_uri": "https://localhost:8080/"
        },
        "id": "ICrBQX8Yw8o_",
        "outputId": "67795c55-1f5b-4cb4-bef3-5978deeea003"
      },
      "source": [
        "info = (\"Juan23\" , \"dios1234\", \"123.232.1.12\")\n",
        "print(info)\n",
        "print(info[1])\n",
        "# info[1]= \"patito23\"\n",
        "numero = (0,1,2,3,4,5,6,7,8,9,10,11,12,13,14,15)\n",
        "print(numero)\n",
        "print(numero [5:11: ])\n",
        "\n",
        "cosas = (info, numero)\n",
        "print(cosas)\n",
        "print(cosas[1][5:11: ])\n",
        "print(cosas[0][2][4:7: ])\n",
        "print(cosas[0][2][-8:-5: ])\n"
      ],
      "execution_count": null,
      "outputs": [
        {
          "output_type": "stream",
          "name": "stdout",
          "text": [
            "('Juan23', 'dios1234', '123.232.1.12')\n",
            "dios1234\n",
            "(0, 1, 2, 3, 4, 5, 6, 7, 8, 9, 10, 11, 12, 13, 14, 15)\n",
            "(5, 6, 7, 8, 9, 10)\n",
            "(('Juan23', 'dios1234', '123.232.1.12'), (0, 1, 2, 3, 4, 5, 6, 7, 8, 9, 10, 11, 12, 13, 14, 15))\n",
            "(5, 6, 7, 8, 9, 10)\n",
            "232\n",
            "232\n"
          ]
        }
      ]
    },
    {
      "cell_type": "markdown",
      "metadata": {
        "id": "Xr6vZJh30kfu"
      },
      "source": [
        "# Metodos de las tuplas.\n",
        "Son los mismos de las litas, pero los que no involucren mutabilidad.\n",
        "-Solo admite index y count \n"
      ]
    },
    {
      "cell_type": "code",
      "metadata": {
        "id": "89vpkJ120xI9"
      },
      "source": [
        "dir(tuple)"
      ],
      "execution_count": null,
      "outputs": []
    },
    {
      "cell_type": "markdown",
      "metadata": {
        "id": "F2WI5ub-2tFu"
      },
      "source": [
        "# Diccionarios \n",
        "### Caracteristicas\n",
        "- Agrupan datos, pero de forma no lineal.\n",
        "- Se declaran con {  } o dict()\n",
        "- Formado por pares de equipo llave;valor , donde:llave es de tipo string y valor puede ser de cualquier tipo de dato, incluyendo los diccionarios.\n",
        "-Se seleccionan con la llave de la forma : [\"id_llave\"]\n",
        "- Son mutables.\n",
        "- Son equivalentes al tipo de dato json del lenguaje java(js)\n",
        "-Son anidables."
      ]
    },
    {
      "cell_type": "code",
      "metadata": {
        "id": "OJVrl8FM_LkN"
      },
      "source": [
        ""
      ],
      "execution_count": null,
      "outputs": []
    },
    {
      "cell_type": "code",
      "metadata": {
        "colab": {
          "base_uri": "https://localhost:8080/"
        },
        "id": "JH0fpBMJFP5d",
        "outputId": "84ff19c5-40c8-488d-f1fa-6f2238de526b"
      },
      "source": [
        "cliente = { \"id\":\"CT2121\" ,\n",
        "            \"nombre\" : {\n",
        "                \"nombres\" : [\"José\", \"Eduardo\"],\n",
        "                \"paterno\" : \"Pedroza\",\n",
        "                \"materno\" : \"Rosales\"\n",
        "            } ,\n",
        "            \"telefonos\" : {\n",
        "                \"casa\" : \"55-6632-4234\",\n",
        "                \"trabajo\":\"55-443-3232\" ,\n",
        "                \"celular\":\"044-55-234234\"\n",
        "            } ,\n",
        "           \"productos\":{\n",
        "               \"ahorro\":{ \"numero_cuenta\":\"7788\" , \"ahorro\": 2500.5 },\n",
        "               \"tarjetas\":[\n",
        "                            {\"tipo\":\"debito\" , \"saldo\" : 10000.5  },\n",
        "                            {\"tipo\":\"credito preferente\" , \"limite\":250000.5},\n",
        "                            {\"tipo\":\"lite\" , \"limite\": 15000.5 }\n",
        "                ]\n",
        "           },\n",
        "           \"direccion\":{\n",
        "               \"calle\":\"Av. central\",\n",
        "               \"numero\" : 1245,\n",
        "               \"colonia\" :\"Impulsora\",\n",
        "               \"delegacion\" :\"neza\",\n",
        "               \"estado\" : {\n",
        "                            \"clave\" : 15,\n",
        "                           \"nombre_corto\":\"EdoMex\",\n",
        "                           \"nombre\": \"Estado de México\"\n",
        "                            }\n",
        "           }\n",
        "\n",
        "            }\n",
        "print( cliente[\"telefonos\"][\"casa\"] )\n",
        "print(cliente)\n",
        "print(cliente[\"productos\"][\"ahorro\"][\"ahorro\"])\n",
        "print( cliente [\"productos\"][\"tarjetas\"][2][\"limite\"])\n",
        "print(cliente[\"direccion\"][\"estado\"][\"nombre\"].upper())\n",
        "cliente[\"productos\"][\"ahorro\"][\"ahorro\"]-=1500\n",
        "print(cliente[\"productos\"][\"ahorro\"][\"ahorro\"])\n",
        "\n"
      ],
      "execution_count": null,
      "outputs": [
        {
          "output_type": "stream",
          "name": "stdout",
          "text": [
            "55-6632-4234\n",
            "{'id': 'CT2121', 'nombre': {'nombres': ['José', 'Eduardo'], 'paterno': 'Pedroza', 'materno': 'Rosales'}, 'telefonos': {'casa': '55-6632-4234', 'trabajo': '55-443-3232', 'celular': '044-55-234234'}, 'productos': {'ahorro': {'numero_cuenta': '7788', 'ahorro': 2500.5}, 'tarjetas': [{'tipo': 'debito', 'saldo': 10000.5}, {'tipo': 'credito preferente', 'limite': 250000.5}, {'tipo': 'lite', 'limite': 15000.5}]}, 'direccion': {'calle': 'Av. central', 'numero': 1245, 'colonia': 'Impulsora', 'delegacion': 'neza', 'estado': {'clave': 15, 'nombre_corto': 'EdoMex', 'nombre': 'Estado de México'}}}\n",
            "2500.5\n",
            "15000.5\n",
            "ESTADO DE MÉXICO\n",
            "1000.5\n"
          ]
        }
      ]
    },
    {
      "cell_type": "markdown",
      "metadata": {
        "id": "AdhHCZfVFIaP"
      },
      "source": [
        "#FORMATO JSON\n",
        "SIRVE PARA INTERCAMBIAR INFORMACION ENTRE UNA PAGINA WEB Y UN ARCHIVO PYTHON."
      ]
    },
    {
      "cell_type": "code",
      "metadata": {
        "id": "OTVaOO_RJ8y1"
      },
      "source": [
        "Pelicula = { \"Titulo\" : \"Coraline y la puerta secreta \" \n",
        "            , \n",
        "            \"Genero\" : \"animacion, Fantasia, aventura, cine de terror \" , \"sinopsis\" : \"Coraline, una niña de 11 años, acaba de trasladarse con sus padres a una nueva ciudad. Echa de menos a sus amigos y el vecindario le resulta aburrido, pero su espíritu aventurero le lleva a descubrir una puerta secreta en su casa. ... Coraline, una niña de 11 años, acaba de trasladarse con sus padres a una nueva ciudad.\" \n",
        "            , \n",
        "            \"personajes\" : \"Coraline Jones: es la protagonista de la película; es una niña rígida, fuerte de carácter y clara al hablar. Tiene 11 años de edad.​ Se muda a una casa compartida por otras personas llamada \" \n",
        "            , \n",
        "            \"duracion\" : \"1h 40m\" \n",
        "            , \" Fecha de salida\" : 2009\n",
        "           } \n",
        "            "
      ],
      "execution_count": null,
      "outputs": []
    },
    {
      "cell_type": "markdown",
      "metadata": {
        "id": "E4X78J2MNVZ-"
      },
      "source": [
        "# Estructuras de control de programacion.\n",
        "Se peude crear cualquier tipo de algoritmo empleando 3 estructuras de control\n",
        "1. Secuencia : \n",
        "   - La representacion de la memoria de programa (arquitectura vonn newman)\n",
        "2. Seleccion :    \n",
        "   - Es la estructura de control que decide si un bloque de programa se ejecuta o no se ejecuta. Tambien permite seleccionar ejecutar un bloque entre un \n",
        "conjunto de opciones.\n",
        "      -En resumen tenemos : seleccion simple, seleccion con bifurcacion y seleccion multiple.\n",
        "3. Repeticion :    \n",
        "  - Este tipo de estructura nos permite automatizar la ejecucion repetitiva de codigo mientras ciertas condiciones se cumplan , tenemos 3 variantes de esta estructura en todos los lenguajes de progrmacion.\n",
        "      - Desde....Hasta (estructura for).\n",
        "      - haz mientras ( estructura while)\n",
        "      - haz y luego validaz mientras (estructura Do-While)\n",
        "      "
      ]
    },
    {
      "cell_type": "markdown",
      "metadata": {
        "id": "yIcZ9sSASCUU"
      },
      "source": [
        "#Seleccion simple.\n",
        "\n",
        "la estructura if \n",
        "\n",
        "\n",
        "if <condicion> :   \n",
        "   <cuerpo del if> \n",
        "\n",
        "   NOTA para establecer el cuerpo de una estructura de contro en python se usan los tabuladores a la izquierda, en otros lenguajes como java c y c++ se usan las llaves { o }\n"
      ]
    },
    {
      "cell_type": "code",
      "metadata": {
        "colab": {
          "base_uri": "https://localhost:8080/"
        },
        "id": "iRVDr87ZSEjs",
        "outputId": "476dccbc-e5e5-4755-ff31-02f8625c2f82"
      },
      "source": [
        "edad = int( input(\"Dame tu edad :\"))\n",
        "print(f\"Tecleaste {edad} años\")\n",
        "if edad >= 18 :\n",
        "  print(\"ERES MAYOR DE EDAD\")\n",
        "  print(\"algo\")\n",
        "print(\"otra cosa\")\n",
        "print(\"Fin del programa\")\n",
        "\n",
        "\n",
        "\n"
      ],
      "execution_count": null,
      "outputs": [
        {
          "output_type": "stream",
          "name": "stdout",
          "text": [
            "Dame tu edad :18\n",
            "Tecleaste 18 años\n",
            "ERES MAYOR DE EDAD\n",
            "algo\n",
            "otra cosa\n",
            "Fin del programa\n"
          ]
        }
      ]
    },
    {
      "cell_type": "code",
      "metadata": {
        "colab": {
          "base_uri": "https://localhost:8080/"
        },
        "id": "qKhKoGBAWdls",
        "outputId": "f7312d78-96bf-4732-a6fb-d9bc4f245763"
      },
      "source": [
        "CAL = float( input(\"Dame tu calificacion: \"))\n",
        "if CAL > 8 :\n",
        "    print (\"aprobado\")\n",
        "print (\"Fin del programa\")\n",
        " "
      ],
      "execution_count": null,
      "outputs": [
        {
          "output_type": "stream",
          "name": "stdout",
          "text": [
            "Dame tu calificacion: 8\n",
            "Fin del programa\n"
          ]
        }
      ]
    },
    {
      "cell_type": "code",
      "metadata": {
        "id": "Swr4rFctZDMj"
      },
      "source": [
        "SUE = float(input(\"Escribe el sueldo :\"))\n",
        "AUM = 0\n",
        "MSUE = 0\n",
        "\n",
        "\n",
        "if SUE < 1000 : \n",
        "  AUM = SUE* 0.15\n",
        "  MSUE= SUE + AUM\n",
        "  print(MSUE)"
      ],
      "execution_count": null,
      "outputs": []
    },
    {
      "cell_type": "markdown",
      "metadata": {
        "id": "765lW3niGl6_"
      },
      "source": [
        "# Estructura de seleccion con bifurcacion (if-else).\n",
        "\n",
        "Esta estructura, selecciona una de dos opciones de ejecucion, se ejecuta un bloque si la condicion se cumple \n",
        "\n",
        "\n",
        "```\n",
        "if <condicion> :\n",
        "    <bloque de ejecucion>\n",
        "else : \n",
        "    <bloque alterno de ejecucion>\n",
        "\n",
        "\n",
        "\n",
        "\n"
      ]
    },
    {
      "cell_type": "code",
      "metadata": {
        "id": "FlupmqRFHoB-",
        "colab": {
          "base_uri": "https://localhost:8080/"
        },
        "outputId": "67205935-4cfb-4b39-87fc-e6dda6c6082d"
      },
      "source": [
        "edad = int(input(\"Dame tu edad:\"))\n",
        "print(f\"tecleaste {edad} años \")\n",
        "if edad >= 18:\n",
        "    print(\"Eres mayor de edad, ten tu cheve\")\n",
        "else:\n",
        "    print(\"Eres menor de edad, ten tu boing de fresa\")\n",
        "print(\"fin del programa\")\n"
      ],
      "execution_count": null,
      "outputs": [
        {
          "output_type": "stream",
          "name": "stdout",
          "text": [
            "Dame tu edad:18\n",
            "tecleaste 18 años \n",
            "Eres mayor de edad, ten tu cheve\n",
            "fin del programa\n"
          ]
        }
      ]
    },
    {
      "cell_type": "code",
      "metadata": {
        "id": "yeiEc1Q5Jo2y",
        "colab": {
          "base_uri": "https://localhost:8080/"
        },
        "outputId": "b0892ec6-0a7b-4bef-8aca-55845e88a51d"
      },
      "source": [
        "edad=int(input(\"Dame tu edad: \"))\n",
        "dinero=float(input(\"Dame tu cantidad de dinero: \"))\n",
        "print(f\"Tecleaste {edad} años\")\n",
        "print(f\"Tecleaste {dinero} pesos\")\n",
        "if edad>=18 and dinero>=36:\n",
        "    print(\"Eres mayor de edad, ten cheve\")\n",
        "else:\n",
        "    print(\"Eres menor de edad, ten boing\")\n",
        "print(\"--FIN DEL PROGRAMA--\")"
      ],
      "execution_count": null,
      "outputs": [
        {
          "output_type": "stream",
          "name": "stdout",
          "text": [
            "Dame tu edad: 18\n",
            "Dame tu cantidad de dinero: 36\n",
            "Tecleaste 18 años\n",
            "Tecleaste 36.0 pesos\n",
            "Eres mayor de edad, ten cheve\n",
            "--FIN DEL PROGRAMA--\n"
          ]
        }
      ]
    },
    {
      "cell_type": "code",
      "metadata": {
        "colab": {
          "base_uri": "https://localhost:8080/"
        },
        "id": "1JsD0vExKQx3",
        "outputId": "a552dc3a-537c-436c-ab37-6bcc9b2e58ea"
      },
      "source": [
        "edad = int (input(\"Dame tu edad:\"))\n",
        "dinero = int (input(\"¿Cuánto dinero tienes?\"))\n",
        "if edad >= 18:\n",
        "    if dinero >=35:\n",
        "        print(\"Eres mayor de edad y tienes dinero, ten tu cheve\")\n",
        "    else:\n",
        "        print(\"No tienes suficiente dinero\")\n",
        "else:\n",
        "    print(\"Eres menor de edad, ten tu Boing\")\n",
        "print(\"Fin del programa\")"
      ],
      "execution_count": null,
      "outputs": [
        {
          "output_type": "stream",
          "name": "stdout",
          "text": [
            "Dame tu edad:19\n",
            "¿Cuánto dinero tienes?40\n",
            "Eres mayor de edad y tienes dinero, ten tu cheve\n",
            "Fin del programa\n"
          ]
        }
      ]
    },
    {
      "cell_type": "markdown",
      "metadata": {
        "id": "O7HlVF2GMvow"
      },
      "source": [
        "else :     \n",
        "       if \n",
        "elif\n",
        "### elif\n",
        "\n",
        "Se puede simplificar."
      ]
    },
    {
      "cell_type": "code",
      "metadata": {
        "id": "h-jyyK8NNScE"
      },
      "source": [
        "edad = int(input(\"Dame tu edad: \"))\n",
        "dinero = float(input(\"Cuanto dinero tienes: \"))\n",
        "print(f\"Tecleaste {edad} años\")\n",
        "print(f\"Tecleaste {dinero} dinero\")\n",
        "if edad >= 18 :\n",
        "    if dinero >=36 :\n",
        "        print(\"Ten tu cheve\")\n",
        "    else:\n",
        "        print(\"tienes la edad pero no tienes dinero suficiente\")\n",
        "elif dinero >= 36 :\n",
        "    print(\"Tienes dinero suficiente pero no tienes la edad\")\n",
        "else:\n",
        "    print(\"No tienes la edad ni el dinero, ve a jugar roblox a tu casa\")"
      ],
      "execution_count": null,
      "outputs": []
    },
    {
      "cell_type": "code",
      "metadata": {
        "colab": {
          "base_uri": "https://localhost:8080/"
        },
        "id": "yBamKOyoOotk",
        "outputId": "565ed3a7-c092-4154-f74e-ac99fbc0aae0"
      },
      "source": [
        "CAL = float(input(\"Dame tu calificacion\"))\n",
        "if CAL >=8 :\n",
        "    print(\"Aprobado\")\n",
        "else: \n",
        "    print(\"Reprobado\")"
      ],
      "execution_count": null,
      "outputs": [
        {
          "output_type": "stream",
          "name": "stdout",
          "text": [
            "Dame tu calificacion5\n",
            "Reprobado\n"
          ]
        }
      ]
    },
    {
      "cell_type": "code",
      "metadata": {
        "colab": {
          "base_uri": "https://localhost:8080/"
        },
        "id": "N_f6MvJkRHlE",
        "outputId": "74a26c53-ac67-4e88-beec-bb7e5109a7db"
      },
      "source": [
        "SUE=float(input(\"Escribe el sueldo: \"))\n",
        "AUM = 0 \n",
        "NSUE = 0\n",
        "\n",
        "if SUE < 1000 :\n",
        "    AUM = SUE* 0.15\n",
        "    NSUE = SUE + AUM\n",
        "    print(NSUE)\n",
        "else:\n",
        "    AUM= SUE*0.12\n",
        "    NSUE = SUE + AUM\n",
        "    print(NSUE)"
      ],
      "execution_count": null,
      "outputs": [
        {
          "output_type": "stream",
          "name": "stdout",
          "text": [
            "Escribe el sueldo: 1000\n",
            "1120.0\n"
          ]
        }
      ]
    },
    {
      "cell_type": "markdown",
      "metadata": {
        "id": "BTf7VQS_SIjC"
      },
      "source": [
        "#Ejercicio."
      ]
    },
    {
      "cell_type": "code",
      "metadata": {
        "id": "Obr_CXdPUK5o"
      },
      "source": [
        "dia=int(input(\"Dame el día de la semana del 1-7: \"))\n",
        "if dia is 1:\n",
        "    print(\"LUNES\")\n",
        "elif dia is 2:\n",
        "    print(\"MARTES\")\n",
        "elif dia is 3:\n",
        "    print(\"MIERCOLES\")\n",
        "elif dia is 4:\n",
        "    print(\"JUEVES\")\n",
        "elif dia is 5:\n",
        "    print(\"VIERNES\")\n",
        "elif dia is 6:\n",
        "    print(\"SÁBADO\")\n",
        "elif dia is 7:\n",
        "    print(\"DOMINGO\")\n",
        "else:\n",
        "    print(\"Debe ser un numero del 1 al 7, ingresa nuevamente\")"
      ],
      "execution_count": null,
      "outputs": []
    },
    {
      "cell_type": "code",
      "metadata": {
        "colab": {
          "base_uri": "https://localhost:8080/"
        },
        "id": "K9KlpwmbVA2e",
        "outputId": "e2c8982b-4061-4ba2-cce9-5c956a8c3d9d"
      },
      "source": [
        "dia = int(input(\"Ingresa un numero entre uno y 7 :\"))\n",
        "print(f\"Capturaste el numero { dia } \")\n",
        "\n",
        "if dia >=1 and dia <= 7:\n",
        "    if dia == 1:\n",
        "        print(\"Lunes\")\n",
        "    else: \n",
        "        if dia == 2:\n",
        "            print(\"Martes\")\n",
        "        else:\n",
        "            if dia == 3:\n",
        "                print(\"Miercoles\")\n",
        "            else:\n",
        "                if dia == 4:\n",
        "                    print(\"Jueves\")\n",
        "                else:\n",
        "                    if dia == 5:\n",
        "                        print(\"Viernes\")\n",
        "                    else: \n",
        "                        if dia == 6:\n",
        "                            print(\"Sabado\")\n",
        "                        else:\n",
        "                            if dia == 7:\n",
        "                                print(\"Domingo\")\n",
        "                    \n",
        "else:\n",
        "    print(\"Ese numero no esta dentro del rango solicitado\")\n",
        "\n"
      ],
      "execution_count": null,
      "outputs": [
        {
          "output_type": "stream",
          "name": "stdout",
          "text": [
            "Ingresa un numero entre uno y 7 :1\n",
            "Capturaste el numero 1 \n",
            "Lunes\n"
          ]
        }
      ]
    },
    {
      "cell_type": "markdown",
      "metadata": {
        "id": "zSX-cL1ua8Kb"
      },
      "source": [
        "# Seleccion multiple (switch)\n",
        "En python no existe la estructura de seleccion switch, en su lugar se emplea la palabra reservada \n",
        "\n",
        "## elif <condicion>:    \n",
        "\n",
        "Por ejemplo en el lenguaje C Y JAVA seriea de la forma.\n",
        "\n",
        "float SUE= 0.0:    \n",
        "int CATE = 0:     \n",
        "printf(\"introduce la categoria \")\n",
        "scanf(\"%i\",&CATE) :    \n",
        "printf(\"introduce el sueldo\")\n",
        "scanf(\"%f\",&SUE) : \n",
        "switch (CATE) {\n",
        "    case 1:     \n",
        "    SUE = SUE * 1.15 :   \n",
        "    break;  \n",
        "    case 2:     \n",
        "    SUE = SUE * 1.10 :   \n",
        "    break;  \n",
        "    case 3:     \n",
        "    SUE = SUE * 1.08 :   \n",
        "    break;  \n",
        "    case 4:     \n",
        "    SUE = SUE * 1.07 :   \n",
        "    break;  \n",
        "\n",
        "}\n",
        "\n",
        "printf(\"categoria = %i, Sueldo %f\", CATE,SUE)"
      ]
    },
    {
      "cell_type": "code",
      "metadata": {
        "id": "KIXC10qW1zCd"
      },
      "source": [
        "CATE = int(input(\"introduce la categoria:\"))\n",
        "SUE = float(input(\"introduce el sueldo:\"))\n",
        "if CATE == 1:\n",
        "    SUE = SUE * 1.5 :\n",
        "elif CATE == 2:\n",
        "       SUE = SUE * 1.10 :\n",
        "elif CATE == 3:\n",
        "       SUE = SUE * 1.08 :\n",
        "elif CATE == 4:\n",
        "       SUE = SUE * 1.07:\n",
        "print(f\"Categoria = {CATE} , Sueldo = {SUE}\" )\n"
      ],
      "execution_count": null,
      "outputs": []
    },
    {
      "cell_type": "code",
      "metadata": {
        "id": "MktkOcJZ8sfm"
      },
      "source": [
        "A=int(input(\"Dame un numero entero: \"))\n",
        "B=int(input(\"Dame un segundo numero entero diferente: \"))\n",
        "C=int(input(\"Dame un tercer numero entero diferente: \"))\n",
        "\n",
        "if A==B==C or A==B or A==C or B==C:\n",
        "    print(\" DEBEN SER 3 NUMEROS DIFERENTES ENTRE SI\")\n",
        "if A>B:\n",
        "    if A>C: \n",
        "        if B>C:\n",
        "            print(\"En orden descendente: \",A, B, C)\n",
        "        else:\n",
        "            print(\"En orden descendente: \",A, C, B)\n",
        "    else: print(\"En orden descendente: \",C, A, B)\n",
        "else:\n",
        "    if B>C: \n",
        "        if A>C:\n",
        "            print(\"En orden descendente: \",B, A, C)\n",
        "        else:\n",
        "            print(\"En orden descendente: \",B, C, A)\n",
        "    else: print(\"En orden descendente: \",C, B, A)\n",
        "\n",
        "print(\"--FIN DEL PROGRAMA--\")"
      ],
      "execution_count": null,
      "outputs": []
    },
    {
      "cell_type": "code",
      "metadata": {
        "colab": {
          "base_uri": "https://localhost:8080/"
        },
        "id": "grkFoadcCDvV",
        "outputId": "f7ef6900-c26a-4bbc-db8e-2d479bdd12cb"
      },
      "source": [
        "TIPOENF = int(input(\"Introduce el tipo de enfermedad:\"))\n",
        "EDAD = int(input(\"Introduce la edad:\"))\n",
        "DIAS = int(input(\"Intruce el numero de dias:\"))\n",
        "COSTO = 0.0\n",
        "\n",
        "if TIPOENF == 1 :\n",
        "    COSTO = DIAS * 25.0 \n",
        "elif TIPOENF == 2 :\n",
        "    COSTO = DIAS * 16.0 \n",
        "elif TIPOENF == 3 :\n",
        "    COSTO = DIAS * 20.0 \n",
        "elif TIPOENF == 4 :\n",
        "    COSTO = DIAS * 32.0 \n",
        "\n",
        "if EDAD >= 14 and EDAD <= 22 :\n",
        "    COSTO = COSTO *1.10\n",
        "\n",
        "print(\"Costo total=$\", COSTO)\n",
        "\n",
        "\n"
      ],
      "execution_count": 16,
      "outputs": [
        {
          "output_type": "stream",
          "name": "stdout",
          "text": [
            "Introduce el tipo de enfermedad:3\n",
            "Introduce la edad:35\n",
            "Intruce el numero de dias:4\n",
            "Costo total=$ 80.0\n"
          ]
        }
      ]
    }
  ]
}