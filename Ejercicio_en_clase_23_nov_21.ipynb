{
  "nbformat": 4,
  "nbformat_minor": 0,
  "metadata": {
    "colab": {
      "name": "Ejercicio en clase 23-nov-21.ipynb",
      "provenance": []
    },
    "kernelspec": {
      "name": "python3",
      "display_name": "Python 3"
    },
    "language_info": {
      "name": "python"
    }
  },
  "cells": [
    {
      "cell_type": "code",
      "metadata": {
        "id": "ebnDWrt8NLyl"
      },
      "source": [
        "A=int(input(\"Dame un numero entero: \"))\n",
        "B=int(input(\"Dame un segundo numero entero diferente: \"))\n",
        "C=int(input(\"Dame un tercer numero entero diferente: \"))\n",
        "\n",
        "if A==B==C or A==B or A==C or B==C:\n",
        "    print(\" DEBEN SER 3 NUMEROS DIFERENTES ENTRE SI\")\n",
        "if A>B:\n",
        "    if A>C: \n",
        "        if B>C:\n",
        "            print(\"En orden descendente: \",A, B, C)\n",
        "        else:\n",
        "            print(\"En orden descendente: \",A, C, B)\n",
        "    else: print(\"En orden descendente: \",C, A, B)\n",
        "else:\n",
        "    if B>C: \n",
        "        if A>C:\n",
        "            print(\"En orden descendente: \",B, A, C)\n",
        "        else:\n",
        "            print(\"En orden descendente: \",B, C, A)\n",
        "    else: print(\"En orden descendente: \",C, B, A)\n",
        "\n",
        "print(\"--FIN DEL PROGRAMA--\")"
      ],
      "execution_count": null,
      "outputs": []
    }
  ]
}