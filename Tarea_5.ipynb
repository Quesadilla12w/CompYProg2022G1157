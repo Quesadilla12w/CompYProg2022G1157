{
  "nbformat": 4,
  "nbformat_minor": 0,
  "metadata": {
    "colab": {
      "name": "Tarea 5.ipynb",
      "provenance": [],
      "collapsed_sections": []
    },
    "kernelspec": {
      "name": "python3",
      "display_name": "Python 3"
    },
    "language_info": {
      "name": "python"
    }
  },
  "cells": [
    {
      "cell_type": "code",
      "metadata": {
        "id": "6JrOVydfcccq",
        "colab": {
          "base_uri": "https://localhost:8080/"
        },
        "outputId": "e7c0ef0e-873e-4399-d0a6-438e54dca36e"
      },
      "source": [
        "\"\"\"#hacer un programa que pida dos numeros enteros y que imprima en pantalla lo siguiente: \n",
        "1.cual de ellos es el numero mayor\n",
        "2.cual de ellos es el numero menor\n",
        "3.o en su defecto Imprimir que los valores son iguales \"\"\"\n",
        "\n",
        "NUMERO1 = int(input(\"Dame un numero:\"))\n",
        "NUMERO2 = int(input(\"Otro numero:\"))\n",
        "if NUMERO1 > NUMERO2 :\n",
        "    print(f\"El numero mayor es: {NUMERO1}\")\n",
        "    print(f\"El numero menor es: {NUMERO2} \")\n",
        "elif NUMERO1 < NUMERO2 :\n",
        "    print(f\"El numero mayor es: {NUMERO2}\")\n",
        "    print(f\"El numero menor es: {NUMERO1} \")\n",
        "else :\n",
        "    print(\"Los dos numeros son iguales\")"
      ],
      "execution_count": 81,
      "outputs": [
        {
          "output_type": "stream",
          "name": "stdout",
          "text": [
            "Dame un numero:1\n",
            "Otro numero:2\n",
            "El numero mayor es: 2\n",
            "El numero menor es: 1 \n"
          ]
        }
      ]
    },
    {
      "cell_type": "code",
      "metadata": {
        "id": "5BA5RHCXGGys"
      },
      "source": [
        "\"\"\" Hacer un programa que solicite  3 numeros enteros diferentes \n",
        "entre sí  y que imprima cual de los 3 es el mayor\n",
        "\"\"\"\n",
        "NUMERO1 = int(input(\"Dame un numero:\"))\n",
        "NUMERO2 = int(input(\"Dame otro numero:\"))\n",
        "NUMERO3 = int(input(\"Dame Otro numero:\"))\n",
        "if NUMERO1 > NUMERO2 and NUMERO1 > NUMERO3 :\n",
        "    print(f\"El numero mayor es: {NUMERO1}\")\n",
        "elif NUMERO2 > NUMERO1 and NUMERO2 > NUMERO3 :\n",
        "       print(f\"El numero mayor es: {NUMERO2}\")\n",
        "else : print(f\"El numero mayor es: {NUMERO3}\")"
      ],
      "execution_count": null,
      "outputs": []
    },
    {
      "cell_type": "code",
      "metadata": {
        "id": "SvMygoHlJD7_",
        "colab": {
          "base_uri": "https://localhost:8080/"
        },
        "outputId": "350f8671-b9c6-4cd1-c603-810ca9b638d5"
      },
      "source": [
        "\"\"\" \n",
        "Hacer un programa que solicite  3 numeros enteros diferentes \n",
        "entre sí  y que imprima cual de los 3 es el menor\n",
        "\"\"\"\n",
        "\n",
        "NUMERO1 = int(input(\"Dame un numero:\"))\n",
        "NUMERO2 = int(input(\"Dame otro numero:\"))\n",
        "NUMERO3 = int(input(\"Dame Otro numero:\"))\n",
        "if NUMERO1 < NUMERO2 and NUMERO1 < NUMERO3 :\n",
        "    print(f\"El numero menor es: {NUMERO1}\")\n",
        "elif NUMERO2 < NUMERO1 and NUMERO2 < NUMERO3 :\n",
        "       print(f\"El numero menor es: {NUMERO2}\")\n",
        "else : print(f\"El numero menor es: {NUMERO3}\")\n",
        "\n"
      ],
      "execution_count": 84,
      "outputs": [
        {
          "output_type": "stream",
          "name": "stdout",
          "text": [
            "Dame un numero:1\n",
            "Dame otro numero:2\n",
            "Dame Otro numero:3\n",
            "El numero menor es: 1\n"
          ]
        }
      ]
    },
    {
      "cell_type": "code",
      "metadata": {
        "colab": {
          "base_uri": "https://localhost:8080/"
        },
        "id": "KKI_Sp-uPUyK",
        "outputId": "8fd2b818-e80d-4cf6-cd5a-44180942dbaf"
      },
      "source": [
        "\"\"\"\n",
        "Hacer un programa que solicite 4 numeros enteros diferentes entre si\n",
        "e imprima a la salida cual de ellos es el menor y cual de ellos es el mayor\n",
        "\"\"\"\n",
        "\n",
        "NUMERO1 = int(input(\"Dame un numero:\"))\n",
        "NUMERO2 = int(input(\"Dame otro numero:\"))\n",
        "NUMERO3 = int(input(\"Dame Otro numero:\"))\n",
        "NUMERO4 = int(input(\"Dame Otro numero:\"))\n",
        "if NUMERO1 > NUMERO2 and NUMERO1 > NUMERO3 and NUMERO1 > NUMERO4 :\n",
        "    print(f\"El numero mayor es: {NUMERO1}\")\n",
        "elif NUMERO2 > NUMERO1 and NUMERO2 > NUMERO3 and NUMERO2 > NUMERO4 :\n",
        "    print(f\"El numero mayor es: {NUMERO2}\")\n",
        "elif NUMERO3 > NUMERO1 and NUMERO3 > NUMERO2 and NUMERO3 > NUMERO4 :\n",
        "    print(f\"El numero mayor es: {NUMERO3}\")\n",
        "elif NUMERO4 > NUMERO1 and NUMERO4 > NUMERO2 and NUMERO4 > NUMERO3 :\n",
        "    print(f\"El numero mayor es: {NUMERO4}\")\n",
        "if NUMERO1 < NUMERO2 and NUMERO1 < NUMERO3 and NUMERO1 < NUMERO4 :\n",
        "    print(f\"El numero menor es: {NUMERO1}\")\n",
        "elif NUMERO2 < NUMERO1 and NUMERO2 < NUMERO3 and NUMERO2 < NUMERO4 :\n",
        "    print(f\"El numero menor es: {NUMERO2}\")\n",
        "elif NUMERO3 < NUMERO1 and NUMERO3 < NUMERO2 and NUMERO3 < NUMERO4 :\n",
        "    print(f\"El numero menor es: {NUMERO3}\")\n",
        "elif NUMERO4 < NUMERO1 and NUMERO4 < NUMERO2 and NUMERO4 < NUMERO3 :\n",
        "    print(f\"El numero mayor es: {NUMERO4}\")\n",
        "else: print(\"Fin del programa\")"
      ],
      "execution_count": 92,
      "outputs": [
        {
          "output_type": "stream",
          "name": "stdout",
          "text": [
            "Dame un numero:78\n",
            "Dame otro numero:13\n",
            "Dame Otro numero:123\n",
            "Dame Otro numero:645\n",
            "El numero mayor es: 645\n",
            "El numero menor es: 13\n"
          ]
        }
      ]
    }
  ]
}