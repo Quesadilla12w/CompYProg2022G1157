{
  "nbformat": 4,
  "nbformat_minor": 0,
  "metadata": {
    "colab": {
      "name": "Fundamentos3_CyP_1157.ipynb",
      "provenance": []
    },
    "kernelspec": {
      "name": "python3",
      "display_name": "Python 3"
    },
    "language_info": {
      "name": "python"
    }
  },
  "cells": [
    {
      "cell_type": "markdown",
      "metadata": {
        "id": "riw-c9w7FnFn"
      },
      "source": [
        "Repeticion :    \n",
        "  - Este tipo de estructura nos permite automatizar la ejecucion repetitiva de codigo mientras ciertas condiciones se cumplan , tenemos 3 variantes de esta estructura en todos los lenguajes de progrmacion.\n",
        "      - Desde....Hasta (estructura for).\n",
        "      - haz mientras ( estructura while)\n",
        "      - haz y luego validaz mientras (estructura Do-While)\n",
        "\n",
        "#for con python \n",
        "\n",
        "```\n",
        "for j in range(10):     \n",
        "     print(f\"hola{J}\")\n",
        "```\n",
        "#for con lenguaje c y/o java\n",
        "\n",
        "```\n",
        "for( int j=0 ; j<10 ; j=j+1){\n",
        "    printf(\"Hola %i /n\" , j) ; \n",
        "}\n",
        "```\n",
        "En todos lo lenguajes de programacion existe un tipo especial de for, conocido como **for-each**.\n",
        "\n",
        "#En el caso de python el for-each\n",
        "\n",
        "```\n",
        "for color in colores:    \n",
        "    print(f\"Este es el color {color}\")\n",
        "```\n"
      ]
    },
    {
      "cell_type": "code",
      "metadata": {
        "colab": {
          "base_uri": "https://localhost:8080/"
        },
        "id": "ha1N_gQeH2tX",
        "outputId": "5a9a894c-ce07-4f76-878e-af7c4eaa3adc"
      },
      "source": [
        "#funcion range.\n",
        "#range (<INICIO>,<STOP>,<INCREMENTO>)\n",
        "x = range(0,10,2)\n",
        "print(x)\n",
        "\n",
        "for j in range(10) :\n",
        "    print(f\"HOLA {j}\") #genera un iterador de 0 a 9.\n",
        "print(\"-------------\")\n",
        "for j in range(0,10,2) :\n",
        "    print(f\"HOLA {j}\")\n",
        "\n",
        "frutas = [\"uva\",\"aguacate\",\"pera\",\"manzana\",\"sandia\" ]\n",
        "\n",
        "print(frutas[0])\n",
        "print(frutas[1])\n",
        "print(frutas[2])\n",
        "print(frutas[3])\n",
        "print(frutas[4])\n",
        "\n",
        "\n",
        "print(\"--frutas--\")\n",
        "for index in range(5):\n",
        "    print(frutas[index])\n",
        "\n",
        "for i in range(5):\n",
        "    print(\"+++++\")"
      ],
      "execution_count": 13,
      "outputs": [
        {
          "output_type": "stream",
          "name": "stdout",
          "text": [
            "range(0, 10, 2)\n",
            "HOLA 0\n",
            "HOLA 1\n",
            "HOLA 2\n",
            "HOLA 3\n",
            "HOLA 4\n",
            "HOLA 5\n",
            "HOLA 6\n",
            "HOLA 7\n",
            "HOLA 8\n",
            "HOLA 9\n",
            "-------------\n",
            "HOLA 0\n",
            "HOLA 2\n",
            "HOLA 4\n",
            "HOLA 6\n",
            "HOLA 8\n",
            "uva\n",
            "aguacate\n",
            "pera\n",
            "manzana\n",
            "sandia\n",
            "--frutas--\n",
            "uva\n",
            "aguacate\n",
            "pera\n",
            "manzana\n",
            "sandia\n",
            "+++++\n",
            "+++++\n",
            "+++++\n",
            "+++++\n",
            "+++++\n"
          ]
        }
      ]
    }
  ]
}