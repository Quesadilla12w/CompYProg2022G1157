{
  "nbformat": 4,
  "nbformat_minor": 0,
  "metadata": {
    "colab": {
      "name": "Tarea 4",
      "provenance": [],
      "collapsed_sections": []
    },
    "kernelspec": {
      "name": "python3",
      "display_name": "Python 3"
    },
    "language_info": {
      "name": "python"
    }
  },
  "cells": [
    {
      "cell_type": "code",
      "metadata": {
        "colab": {
          "base_uri": "https://localhost:8080/"
        },
        "id": "MPnQjR_Jobs5",
        "outputId": "f40ed8ce-ef1e-4c0f-920d-3dc0b646eea1"
      },
      "source": [
        "print(\"L\\t U\\t U\\t II\\t SSSS\\nL\\t U\\t U\\t II\\t SS\\nL\\t U\\t U\\t II\\t SSSS\\nL\\t U\\t U\\t II\\t ..SS\\nLLLLLL\\t UUUUUUUUU\\t II\\t SSSS \")"
      ],
      "execution_count": 1,
      "outputs": [
        {
          "output_type": "stream",
          "name": "stdout",
          "text": [
            "L\t U\t U\t II\t SSSS\n",
            "L\t U\t U\t II\t SS\n",
            "L\t U\t U\t II\t SSSS\n",
            "L\t U\t U\t II\t ..SS\n",
            "LLLLLL\t UUUUUUUUU\t II\t SSSS \n"
          ]
        }
      ]
    }
  ]
}