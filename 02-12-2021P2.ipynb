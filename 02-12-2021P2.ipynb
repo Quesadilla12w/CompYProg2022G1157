{
  "nbformat": 4,
  "nbformat_minor": 0,
  "metadata": {
    "colab": {
      "name": "Fundamentos4_CyP_1157.ipynb",
      "provenance": []
    },
    "kernelspec": {
      "name": "python3",
      "display_name": "Python 3"
    },
    "language_info": {
      "name": "python"
    }
  },
  "cells": [
    {
      "cell_type": "markdown",
      "metadata": {
        "id": "Je3hxRlcUFg0"
      },
      "source": [
        "# Modularidad (Funciones)\n",
        "Una funcion es una unidad de codigo reutilizable, ademas de ser un mecanismo para organizar codigo.\n",
        "\n",
        "La gran ventaja de emplear funciones, es simplificar la programacion.\n",
        "\n",
        "### Estructura \n",
        "una funcion puede tomar cualquier cantidad de parametros de entrada\n",
        "(de cualquier tipo) y retornar unicamente un solo valor.\n",
        "Un parametro de entrada es un valor que recibe una funcion para realizar sus operaciones.\n",
        "\n",
        "Con una funcion se puede hacer 2 cosas:     \n",
        "1. Definirla\n",
        "2. Invocarla (ejecutarla)\n",
        "\n",
        "La gran ventaja de tener una funcion declarada es que la podemos reutilizar cuando se desee"
      ]
    },
    {
      "cell_type": "code",
      "metadata": {
        "id": "-jbl2fL7WagF"
      },
      "source": [
        "def sumar(op1,op2):\n",
        "    res = op1 + op2\n",
        "    return res "
      ],
      "execution_count": 3,
      "outputs": []
    },
    {
      "cell_type": "code",
      "metadata": {
        "colab": {
          "base_uri": "https://localhost:8080/"
        },
        "id": "UYqWDSmTYB85",
        "outputId": "e582dd45-1c1a-4bb1-ec5f-4afbe16a3c02"
      },
      "source": [
        "res = sumar(2,5)\n",
        "print(res)\n",
        "res = sumar(33,22)\n",
        "print(res)"
      ],
      "execution_count": 5,
      "outputs": [
        {
          "output_type": "stream",
          "name": "stdout",
          "text": [
            "7\n",
            "55\n"
          ]
        }
      ]
    },
    {
      "cell_type": "code",
      "metadata": {
        "colab": {
          "base_uri": "https://localhost:8080/"
        },
        "id": "RRj_JMEOZrYV",
        "outputId": "f4377c91-d70b-466a-b0b6-286c5d6877d1"
      },
      "source": [
        "print(\"hola\",\"Fernando\",sep=\"_\")"
      ],
      "execution_count": 6,
      "outputs": [
        {
          "output_type": "stream",
          "name": "stdout",
          "text": [
            "hola_Fernando\n"
          ]
        }
      ]
    },
    {
      "cell_type": "code",
      "metadata": {
        "colab": {
          "base_uri": "https://localhost:8080/"
        },
        "id": "96X0c1JQaP33",
        "outputId": "9e49e253-78b7-41b7-915c-4f32e90def18"
      },
      "source": [
        "def imprime_cuadro():\n",
        "    print(\"****\")\n",
        "    print(\"****\")\n",
        "    print(\"****\")\n",
        "    print(\"****\")\n",
        "    #return NONE\n",
        "imprime_cuadro()"
      ],
      "execution_count": 7,
      "outputs": [
        {
          "output_type": "stream",
          "name": "stdout",
          "text": [
            "****\n",
            "****\n",
            "****\n",
            "****\n"
          ]
        }
      ]
    },
    {
      "cell_type": "markdown",
      "metadata": {
        "id": "JinXRvGda839"
      },
      "source": [
        "#Valor de retorno de una funcion.\n",
        "una funcion simpre retorna un solo valor, inclusive si ese valor es el vacio."
      ]
    },
    {
      "cell_type": "code",
      "metadata": {
        "colab": {
          "base_uri": "https://localhost:8080/"
        },
        "id": "0hr98YPXbKwm",
        "outputId": "24e703ea-a170-4b82-e295-b2d29c357ba6"
      },
      "source": [
        "# sumar invocar \n",
        "res = sumar(7,8)\n",
        "print(res)\n",
        "\n",
        "# invocar la funcion pintar cuadro\n",
        "res = imprime_cuadro()\n",
        "print(res)"
      ],
      "execution_count": 9,
      "outputs": [
        {
          "output_type": "stream",
          "name": "stdout",
          "text": [
            "15\n",
            "****\n",
            "****\n",
            "****\n",
            "****\n",
            "None\n"
          ]
        }
      ]
    },
    {
      "cell_type": "markdown",
      "metadata": {
        "id": "xYONZNnTdH4F"
      },
      "source": [
        "# La palabra reservada none de python.\n",
        "Esta palabra reservada significa vacio, equivalente a la palabra void del lenguaje c++ y java.\n",
        "Se usa para indicar, ya sea un return vacio o que se recibe como parametro un vacio."
      ]
    },
    {
      "cell_type": "code",
      "metadata": {
        "id": "uf7vjSNSd5-i"
      },
      "source": [
        "def multiplicar(valor,veces):\n",
        "    C= valor * veces\n",
        "    return C"
      ],
      "execution_count": 11,
      "outputs": []
    },
    {
      "cell_type": "code",
      "metadata": {
        "id": "G0vS718HeIf8"
      },
      "source": [
        "res = multiplicar(5,5)\n",
        "print(res)"
      ],
      "execution_count": null,
      "outputs": []
    },
    {
      "cell_type": "code",
      "metadata": {
        "id": "0c0x7uGJesao"
      },
      "source": [
        "def multiplicar(valor,veces):\n",
        "    if valor == None:\n",
        "        c=-1\n",
        "    else :\n",
        "        C= valor * veces\n",
        "    return C"
      ],
      "execution_count": 14,
      "outputs": []
    },
    {
      "cell_type": "markdown",
      "metadata": {
        "id": "CdId6EVjfhJO"
      },
      "source": [
        "# Parametros y argumentos.\n",
        "Son conceptos relacionados y su diferencia esta centrada en el momento que se emplea en una funcion.\n",
        "\n",
        "Es decir, en la funcion sumar de arriba, cuando se declara se le llama parametro y cuando se invoca se le llama argumento."
      ]
    },
    {
      "cell_type": "markdown",
      "metadata": {
        "id": "m9BmBa7bfZ_e"
      },
      "source": [
        "# Argumentos posicionales posicionales \n",
        "En python es posible determinar a que parametros estan dirigidos los argumentos segun su posicion.\n"
      ]
    },
    {
      "cell_type": "code",
      "metadata": {
        "id": "wdqqtLfcgmtn"
      },
      "source": [
        "def dividir(op1,op2):\n",
        "    c = op1/op2\n",
        "    return c"
      ],
      "execution_count": 16,
      "outputs": []
    },
    {
      "cell_type": "code",
      "metadata": {
        "colab": {
          "base_uri": "https://localhost:8080/"
        },
        "id": "slVuBzZEg1sn",
        "outputId": "31bb3d84-096d-418e-b9b4-bc415991d64a"
      },
      "source": [
        "num1 = 25 \n",
        "num2 = 5\n",
        "res = dividir(num1,num2)\n",
        "print(res)\n",
        "res = dividir(num2,num1)\n",
        "print(res)"
      ],
      "execution_count": 18,
      "outputs": [
        {
          "output_type": "stream",
          "name": "stdout",
          "text": [
            "5.0\n",
            "0.2\n"
          ]
        }
      ]
    },
    {
      "cell_type": "markdown",
      "metadata": {
        "id": "f31BTSQjhVkU"
      },
      "source": [
        "#Argumentos con palabras clave (keywords)\n",
        "La posibilidad de indicarle a la funcion en tiempo de ejecucion a que parametro va dirigido un argumento de entrada.\n",
        "\n",
        "Solo disponible en python.\n",
        "\n"
      ]
    },
    {
      "cell_type": "code",
      "metadata": {
        "colab": {
          "base_uri": "https://localhost:8080/"
        },
        "id": "VVaFrKPLht8n",
        "outputId": "abc5b36c-91ef-4ba3-b352-b51a62615930"
      },
      "source": [
        "res = dividir(op2=num2,op1=num1)\n",
        "print(res)"
      ],
      "execution_count": 19,
      "outputs": [
        {
          "output_type": "stream",
          "name": "stdout",
          "text": [
            "5.0\n"
          ]
        }
      ]
    }
  ]
}