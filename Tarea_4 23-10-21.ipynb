{
  "nbformat": 4,
  "nbformat_minor": 0,
  "metadata": {
    "colab": {
      "name": "Tarea 4",
      "provenance": [],
      "collapsed_sections": []
    },
    "kernelspec": {
      "name": "python3",
      "display_name": "Python 3"
    },
    "language_info": {
      "name": "python"
    }
  },
  "cells": [
    {
      "cell_type": "code",
      "metadata": {
        "colab": {
          "base_uri": "https://localhost:8080/"
        },
        "id": "MPnQjR_Jobs5",
        "outputId": "ca7eb26b-8c39-49e9-eb19-c6982b611106"
      },
      "source": [
        "print(\"LL\\t UU\\t UU\\t II\\t SSSS\\nLL\\t UU\\t UU\\t II\\t SS\\nLL\\t UU\\t UU\\t II\\t SSSS\\nLL\\t UU\\t UU\\t II\\t ..SS\\nLLLLLL\\t UUUUUUUUUU\\t II\\t SSSS \")"
      ],
      "execution_count": 5,
      "outputs": [
        {
          "output_type": "stream",
          "name": "stdout",
          "text": [
            "LL\t UU\t UU\t II\t SSSS\n",
            "LL\t UU\t UU\t II\t SS\n",
            "LL\t UU\t UU\t II\t SSSS\n",
            "LL\t UU\t UU\t II\t ..SS\n",
            "LLLLLL\t UUUUUUUUUU\t II\t SSSS \n"
          ]
        }
      ]
    }
  ]
}