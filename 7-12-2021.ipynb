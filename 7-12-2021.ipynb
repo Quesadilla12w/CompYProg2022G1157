{
  "nbformat": 4,
  "nbformat_minor": 0,
  "metadata": {
    "colab": {
      "name": "Fundamentos4_CyP_1157.ipynb",
      "provenance": []
    },
    "kernelspec": {
      "name": "python3",
      "display_name": "Python 3"
    },
    "language_info": {
      "name": "python"
    }
  },
  "cells": [
    {
      "cell_type": "markdown",
      "metadata": {
        "id": "Je3hxRlcUFg0"
      },
      "source": [
        "# Modularidad (Funciones)\n",
        "Una funcion es una unidad de codigo reutilizable, ademas de ser un mecanismo para organizar codigo.\n",
        "\n",
        "La gran ventaja de emplear funciones, es simplificar la programacion.\n",
        "\n",
        "### Estructura \n",
        "una funcion puede tomar cualquier cantidad de parametros de entrada\n",
        "(de cualquier tipo) y retornar unicamente un solo valor.\n",
        "Un parametro de entrada es un valor que recibe una funcion para realizar sus operaciones.\n",
        "\n",
        "Con una funcion se puede hacer 2 cosas:     \n",
        "1. Definirla\n",
        "2. Invocarla (ejecutarla)\n",
        "\n",
        "La gran ventaja de tener una funcion declarada es que la podemos reutilizar cuando se desee"
      ]
    },
    {
      "cell_type": "code",
      "metadata": {
        "id": "-jbl2fL7WagF"
      },
      "source": [
        "def sumar(op1,op2):\n",
        "    res = op1 + op2\n",
        "    return res "
      ],
      "execution_count": null,
      "outputs": []
    },
    {
      "cell_type": "code",
      "metadata": {
        "colab": {
          "base_uri": "https://localhost:8080/"
        },
        "id": "UYqWDSmTYB85",
        "outputId": "e582dd45-1c1a-4bb1-ec5f-4afbe16a3c02"
      },
      "source": [
        "res = sumar(2,5)\n",
        "print(res)\n",
        "res = sumar(33,22)\n",
        "print(res)"
      ],
      "execution_count": null,
      "outputs": [
        {
          "output_type": "stream",
          "name": "stdout",
          "text": [
            "7\n",
            "55\n"
          ]
        }
      ]
    },
    {
      "cell_type": "code",
      "metadata": {
        "colab": {
          "base_uri": "https://localhost:8080/"
        },
        "id": "RRj_JMEOZrYV",
        "outputId": "f4377c91-d70b-466a-b0b6-286c5d6877d1"
      },
      "source": [
        "print(\"hola\",\"Fernando\",sep=\"_\")"
      ],
      "execution_count": null,
      "outputs": [
        {
          "output_type": "stream",
          "name": "stdout",
          "text": [
            "hola_Fernando\n"
          ]
        }
      ]
    },
    {
      "cell_type": "code",
      "metadata": {
        "colab": {
          "base_uri": "https://localhost:8080/"
        },
        "id": "96X0c1JQaP33",
        "outputId": "9e49e253-78b7-41b7-915c-4f32e90def18"
      },
      "source": [
        "def imprime_cuadro():\n",
        "    print(\"****\")\n",
        "    print(\"****\")\n",
        "    print(\"****\")\n",
        "    print(\"****\")\n",
        "    #return NONE\n",
        "imprime_cuadro()"
      ],
      "execution_count": null,
      "outputs": [
        {
          "output_type": "stream",
          "name": "stdout",
          "text": [
            "****\n",
            "****\n",
            "****\n",
            "****\n"
          ]
        }
      ]
    },
    {
      "cell_type": "markdown",
      "metadata": {
        "id": "JinXRvGda839"
      },
      "source": [
        "#Valor de retorno de una funcion.\n",
        "una funcion simpre retorna un solo valor, inclusive si ese valor es el vacio."
      ]
    },
    {
      "cell_type": "code",
      "metadata": {
        "colab": {
          "base_uri": "https://localhost:8080/"
        },
        "id": "0hr98YPXbKwm",
        "outputId": "24e703ea-a170-4b82-e295-b2d29c357ba6"
      },
      "source": [
        "# sumar invocar \n",
        "res = sumar(7,8)\n",
        "print(res)\n",
        "\n",
        "# invocar la funcion pintar cuadro\n",
        "res = imprime_cuadro()\n",
        "print(res)"
      ],
      "execution_count": null,
      "outputs": [
        {
          "output_type": "stream",
          "name": "stdout",
          "text": [
            "15\n",
            "****\n",
            "****\n",
            "****\n",
            "****\n",
            "None\n"
          ]
        }
      ]
    },
    {
      "cell_type": "markdown",
      "metadata": {
        "id": "xYONZNnTdH4F"
      },
      "source": [
        "# La palabra reservada none de python.\n",
        "Esta palabra reservada significa vacio, equivalente a la palabra void del lenguaje c++ y java.\n",
        "Se usa para indicar, ya sea un return vacio o que se recibe como parametro un vacio."
      ]
    },
    {
      "cell_type": "code",
      "metadata": {
        "id": "uf7vjSNSd5-i"
      },
      "source": [
        "def multiplicar(valor,veces):\n",
        "    C= valor * veces\n",
        "    return C"
      ],
      "execution_count": null,
      "outputs": []
    },
    {
      "cell_type": "code",
      "metadata": {
        "id": "G0vS718HeIf8"
      },
      "source": [
        "res = multiplicar(5,5)\n",
        "print(res)"
      ],
      "execution_count": null,
      "outputs": []
    },
    {
      "cell_type": "code",
      "metadata": {
        "id": "0c0x7uGJesao"
      },
      "source": [
        "def multiplicar(valor,veces):\n",
        "    if valor == None:\n",
        "        c=-1\n",
        "    else :\n",
        "        C= valor * veces\n",
        "    return C"
      ],
      "execution_count": null,
      "outputs": []
    },
    {
      "cell_type": "markdown",
      "metadata": {
        "id": "CdId6EVjfhJO"
      },
      "source": [
        "# Parametros y argumentos.\n",
        "Son conceptos relacionados y su diferencia esta centrada en el momento que se emplea en una funcion.\n",
        "\n",
        "Es decir, en la funcion sumar de arriba, cuando se declara se le llama parametro y cuando se invoca se le llama argumento."
      ]
    },
    {
      "cell_type": "markdown",
      "metadata": {
        "id": "m9BmBa7bfZ_e"
      },
      "source": [
        "# Argumentos posicionales \n",
        "En python es posible determinar a que parametros estan dirigidos los argumentos segun su posicion.\n"
      ]
    },
    {
      "cell_type": "code",
      "metadata": {
        "id": "wdqqtLfcgmtn"
      },
      "source": [
        "def dividir(op1,op2):\n",
        "    c = op1/op2\n",
        "    return c"
      ],
      "execution_count": null,
      "outputs": []
    },
    {
      "cell_type": "code",
      "metadata": {
        "colab": {
          "base_uri": "https://localhost:8080/"
        },
        "id": "slVuBzZEg1sn",
        "outputId": "31bb3d84-096d-418e-b9b4-bc415991d64a"
      },
      "source": [
        "num1 = 25 \n",
        "num2 = 5\n",
        "res = dividir(num1,num2)\n",
        "print(res)\n",
        "res = dividir(num2,num1)\n",
        "print(res)"
      ],
      "execution_count": null,
      "outputs": [
        {
          "output_type": "stream",
          "name": "stdout",
          "text": [
            "5.0\n",
            "0.2\n"
          ]
        }
      ]
    },
    {
      "cell_type": "markdown",
      "metadata": {
        "id": "f31BTSQjhVkU"
      },
      "source": [
        "#Argumentos con palabras clave (keywords)\n",
        "La posibilidad de indicarle a la funcion en tiempo de ejecucion a que parametro va dirigido un argumento de entrada.\n",
        "\n",
        "Solo disponible en python.\n",
        "\n"
      ]
    },
    {
      "cell_type": "code",
      "metadata": {
        "colab": {
          "base_uri": "https://localhost:8080/"
        },
        "id": "VVaFrKPLht8n",
        "outputId": "abc5b36c-91ef-4ba3-b352-b51a62615930"
      },
      "source": [
        "res = dividir(op2=num2,op1=num1)\n",
        "print(res)"
      ],
      "execution_count": null,
      "outputs": [
        {
          "output_type": "stream",
          "name": "stdout",
          "text": [
            "5.0\n"
          ]
        }
      ]
    },
    {
      "cell_type": "markdown",
      "source": [
        "# Argumento por defecto\n",
        "Es la capacidad de las funciones de establecer un valor por defecto, es decir si no se envia un argumento a dicho parametro, entonces se asigna el que el  programador asigno como como default"
      ],
      "metadata": {
        "id": "pF3e4z4-9_j-"
      }
    },
    {
      "cell_type": "code",
      "source": [
        "def dividir(op1,op2=2 ):\n",
        "    c = op1 / op2\n",
        "    return c\n",
        "dividir(25)\n"
      ],
      "metadata": {
        "colab": {
          "base_uri": "https://localhost:8080/"
        },
        "id": "EVuPoh73-c8o",
        "outputId": "41a32df3-1ebb-4bd7-ab15-010affbf4d62"
      },
      "execution_count": 2,
      "outputs": [
        {
          "output_type": "execute_result",
          "data": {
            "text/plain": [
              "12.5"
            ]
          },
          "metadata": {},
          "execution_count": 2
        }
      ]
    },
    {
      "cell_type": "markdown",
      "source": [
        "Este concepto se puede ejemplificar con la funcion **print**"
      ],
      "metadata": {
        "id": "38Ov5BiO_FXN"
      }
    },
    {
      "cell_type": "code",
      "source": [
        "Nombre = \"Jose\"\n",
        "Edad = 18\n",
        "print(Nombre,Edad, sep=\"++-+-+-+-+-.\")\n",
        "print(\"Hola\", end=\" \")\n",
        "print(\"-------------\")"
      ],
      "metadata": {
        "colab": {
          "base_uri": "https://localhost:8080/"
        },
        "id": "7RA_bEcI_NvH",
        "outputId": "eddd8624-b5fc-4bed-94c2-f7fc5f8960b6"
      },
      "execution_count": 8,
      "outputs": [
        {
          "output_type": "stream",
          "name": "stdout",
          "text": [
            "Jose++-+-+-+-+-.18\n",
            "Hola -------------\n"
          ]
        }
      ]
    },
    {
      "cell_type": "markdown",
      "source": [
        "# Ejercicio de argumentos posicionales"
      ],
      "metadata": {
        "id": "Nuq43WOhAiPo"
      }
    },
    {
      "cell_type": "code",
      "source": [
        "def comanda(comensal=1,primer=\"Consome\",segundo=\"Arroz rojo\",tercero=\"Enchiladas\"):\n",
        "    print(f\"El comensal {comensal} quiere:\")\n",
        "    print(\"\\t Entrada:\", primer)\n",
        "    print(\"\\t Medio:\", segundo)\n",
        "    print(\"\\t Plato fuerte:\", tercero)\n",
        "comanda(3,\"Ensalada\",\"Arroz blanco\",\"Esparragos al horno\")\n",
        "comanda(\"Arroz blanco\",\"Esparragos al horno\",3,\"Ensalada\")\n",
        "comanda(segundo=\"Arroz blanco\",tercero=\"Esparragos al horno\",comensal=3,primer=\"Ensalada\")\n"
      ],
      "metadata": {
        "colab": {
          "base_uri": "https://localhost:8080/"
        },
        "id": "CewhTMUDA1RC",
        "outputId": "68211091-47d1-4ad4-c7cf-a5ff951b9ac6"
      },
      "execution_count": 16,
      "outputs": [
        {
          "output_type": "stream",
          "name": "stdout",
          "text": [
            "El comensal 3 quiere:\n",
            "\t Entrada: Ensalada\n",
            "\t Medio: Arroz blanco\n",
            "\t Plato fuerte: Esparragos al horno\n",
            "El comensal Arroz blanco quiere:\n",
            "\t Entrada: Esparragos al horno\n",
            "\t Medio: 3\n",
            "\t Plato fuerte: Ensalada\n",
            "El comensal 3 quiere:\n",
            "\t Entrada: Ensalada\n",
            "\t Medio: Arroz blanco\n",
            "\t Plato fuerte: Esparragos al horno\n"
          ]
        }
      ]
    },
    {
      "cell_type": "markdown",
      "source": [
        "# argumentos enviados en grupo en una tupla.\n",
        "Esto sirve para enviar multiples argumentos a una funcion empleando el comodin *\n",
        "\n",
        "\n",
        "´´´\n",
        "def mifun(args*) :    \n",
        "   <cuerpo de la funcion>\n",
        "\n",
        "´´´"
      ],
      "metadata": {
        "id": "x2yFpdehDYMt"
      }
    },
    {
      "cell_type": "code",
      "source": [
        "def comanda2(*opciones):\n",
        "    print(f\"El comensal {opciones[0]} pidio:\")\n",
        "    print(\"\\t Entrada:\", opciones[1])\n",
        "    print(\"\\t Medio:\", opciones[2])\n",
        "    print(\"\\t Plato fuerte:\", opciones[3])\n",
        "    print(\"Indicaciones extra:\")\n",
        "    for instrucciones in opciones [4::]:\n",
        "        print(\"\\t\",instrucciones)\n",
        "\n",
        "\n",
        "comanda2(1,\"Sopa de fideo\",\"Arroz\",\"Arrachera\",\"La arrachera que aun se mueva \", \"Postre gelatina\")"
      ],
      "metadata": {
        "colab": {
          "base_uri": "https://localhost:8080/"
        },
        "id": "lYSqXRB4EKuK",
        "outputId": "bc3309e5-12e2-4897-c120-3bcced7db4ac"
      },
      "execution_count": 21,
      "outputs": [
        {
          "output_type": "stream",
          "name": "stdout",
          "text": [
            "El comensal 1 pidio:\n",
            "\t Entrada: Sopa de fideo\n",
            "\t Medio: Arroz\n",
            "\t Plato fuerte: Arrachera\n",
            "Indicaciones extra:\n",
            "\t La arrachera que aun se mueva \n",
            "\t Postre gelatina\n"
          ]
        }
      ]
    },
    {
      "cell_type": "markdown",
      "source": [
        "# argumentos enviados en grupo en un diccionario.\n",
        "Es el mismo concepto que el anterior, pero se usa el comodin ** y se mapea a un diccionario."
      ],
      "metadata": {
        "id": "JWBqSuugG1n9"
      }
    },
    {
      "cell_type": "code",
      "source": [
        "def comanda3(**opciones):\n",
        "    ops= opciones.keys()\n",
        "    print(ops)\n",
        "    for key in ops:\n",
        "        print(f\"{key} = {opciones[key]}\")\n",
        "    \n",
        "\n",
        "\n",
        "\n",
        "comanda3(segundo=\"arroz blanco\",tercero=\"Esparragos al horno\",primer=\"Ensalada\",comensal=3)\n"
      ],
      "metadata": {
        "colab": {
          "base_uri": "https://localhost:8080/"
        },
        "id": "0S67UzzWHA2V",
        "outputId": "c808f1a0-0081-44e4-fbeb-6fbb0cde8fc1"
      },
      "execution_count": 26,
      "outputs": [
        {
          "output_type": "stream",
          "name": "stdout",
          "text": [
            "dict_keys(['segundo', 'tercero', 'primer', 'comensal'])\n",
            "segundo = arroz blanco\n",
            "tercero = Esparragos al horno\n",
            "primer = Ensalada\n",
            "comensal = 3\n"
          ]
        }
      ]
    },
    {
      "cell_type": "markdown",
      "source": [
        "#Modularidad y biblioteca\n",
        "todos los lenguajes de programacion tienen la capacidad de compartir codigo entre la comunidad de programadores.\n",
        "\n",
        "Por ello cada lenguaje establece un mecanismo para escribir y compartir bibliotecas."
      ],
      "metadata": {
        "id": "LdtAqI6DJ-ZM"
      }
    },
    {
      "cell_type": "code",
      "source": [
        "!pip install simple_chalk"
      ],
      "metadata": {
        "colab": {
          "base_uri": "https://localhost:8080/"
        },
        "id": "pbllwF6QMB3x",
        "outputId": "2bde4311-49d9-44fa-af2a-17761aa88158"
      },
      "execution_count": 29,
      "outputs": [
        {
          "output_type": "stream",
          "name": "stdout",
          "text": [
            "Collecting simple_chalk\n",
            "  Downloading simple_chalk-0.1.0.tar.gz (13 kB)\n",
            "Building wheels for collected packages: simple-chalk\n",
            "  Building wheel for simple-chalk (setup.py) ... \u001b[?25l\u001b[?25hdone\n",
            "  Created wheel for simple-chalk: filename=simple_chalk-0.1.0-py3-none-any.whl size=22163 sha256=f3c5ac86edbe2950da0e3e6485e3287ef575a755e10302c0a64660308bec6350\n",
            "  Stored in directory: /root/.cache/pip/wheels/24/e2/84/d54838032016039eef79df1137b91defaa6db068d825dfcdcd\n",
            "Successfully built simple-chalk\n",
            "Installing collected packages: simple-chalk\n",
            "Successfully installed simple-chalk-0.1.0\n"
          ]
        }
      ]
    },
    {
      "cell_type": "code",
      "source": [
        "from simple_chalk import chalk,yellow\n",
        "print(chalk.yellow(\"Hola en color amarillo\"))\n",
        "\n"
      ],
      "metadata": {
        "colab": {
          "base_uri": "https://localhost:8080/"
        },
        "id": "u6yEDd9kKueg",
        "outputId": "8830406d-ea04-4e45-9194-dc58e10d6ada"
      },
      "execution_count": 31,
      "outputs": [
        {
          "output_type": "stream",
          "name": "stdout",
          "text": [
            "\u001b[33mHola en color amarillo\u001b[0m\n"
          ]
        }
      ]
    },
    {
      "cell_type": "markdown",
      "source": [
        "# ¿Como escribo una biblioteca de codigo?\n",
        "Se define en un archivo de biblioteca"
      ],
      "metadata": {
        "id": "pVXI5-_oO_CW"
      }
    },
    {
      "cell_type": "code",
      "source": [
        "!cat mi_modulo.py"
      ],
      "metadata": {
        "colab": {
          "base_uri": "https://localhost:8080/"
        },
        "id": "0c-f1jurPNSQ",
        "outputId": "e7f37d05-e749-4712-bc66-391298fe7d3e"
      },
      "execution_count": 32,
      "outputs": [
        {
          "output_type": "stream",
          "name": "stdout",
          "text": [
            "def sumar(A,B):\r\n",
            "    return A+B\r\n",
            "def mi_print(texto,final):\r\n",
            "    print(\"Super\",text,end=final)"
          ]
        }
      ]
    },
    {
      "cell_type": "code",
      "source": [
        "import mi_modulo\n",
        "\n",
        "res = mi_modulo.sumar(7,5)\n",
        "print(res)\n",
        "\n",
        "mi_modulo.mi_print(\"Fernando\",\"\\n\")"
      ],
      "metadata": {
        "colab": {
          "base_uri": "https://localhost:8080/"
        },
        "id": "UWwwtnRrQrOq",
        "outputId": "4ff5dfa1-accb-437c-e096-5fefa88532ce"
      },
      "execution_count": 3,
      "outputs": [
        {
          "output_type": "stream",
          "name": "stdout",
          "text": [
            "12\n",
            "Super Fernando\n"
          ]
        }
      ]
    },
    {
      "cell_type": "code",
      "source": [
        "from mi_modulo import sumar, mi_print\n",
        "res = sumar(5,3)\n",
        "print(res)\n",
        "\n",
        "mi_print(\"Fernando\",\"\\n\")"
      ],
      "metadata": {
        "colab": {
          "base_uri": "https://localhost:8080/"
        },
        "id": "1QWGuBvTR6d6",
        "outputId": "03e9472e-ac0e-4f96-9015-f12e11e16a9f"
      },
      "execution_count": 6,
      "outputs": [
        {
          "output_type": "stream",
          "name": "stdout",
          "text": [
            "8\n",
            "Super Fernando\n"
          ]
        }
      ]
    },
    {
      "cell_type": "markdown",
      "source": [
        "# Manejo de archivos con Python3\n",
        "-leer archivos\n",
        "-escribir en un archivo\n",
        "-manipular informacion leida desde un archivo\n",
        "-formato de archivo\n"
      ],
      "metadata": {
        "id": "rMURZzsKSoUZ"
      }
    },
    {
      "cell_type": "code",
      "source": [
        "archivo = open(\"salida.txt\",\"wt\")\n",
        "archivo.write(\"Hola mundo\")\n",
        "archivo.close()"
      ],
      "metadata": {
        "id": "ENkwkLOkS47C"
      },
      "execution_count": 8,
      "outputs": []
    }
  ]
}