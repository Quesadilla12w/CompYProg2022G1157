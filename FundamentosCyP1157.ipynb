{
  "nbformat": 4,
  "nbformat_minor": 0,
  "metadata": {
    "colab": {
      "name": "FundamentosCyP1157.ipynb",
      "provenance": [],
      "collapsed_sections": []
    },
    "kernelspec": {
      "name": "python3",
      "display_name": "Python 3"
    },
    "language_info": {
      "name": "python"
    }
  },
  "cells": [
    {
      "cell_type": "code",
      "metadata": {
        "id": "X04nAGrNVgHo"
      },
      "source": [
        "Nombre = \"Jose\" # Tipo de dato String (Cadena de caracteres)\n",
        "print ( Nombre )\n"
      ],
      "execution_count": null,
      "outputs": []
    },
    {
      "cell_type": "markdown",
      "metadata": {
        "id": "5hNUmgNCXdU3"
      },
      "source": [
        "# Tipo de datos en Python\n",
        "\n",
        "### Tipos de datos simples\n",
        "- str --> String cadena de caracteres.\n",
        "- int --> Numeros enteros.\n",
        "- float --> Numeros con notacion de punto flotante.\n",
        "- complex --> Numeros complejos.\n",
        "- bool --> Boleano (True o False) \n",
        "- byte --> 8 bits.\n",
        "\n",
        "### Tipos de datos estructurados (compuestos)\n",
        "- list --> Listas (arreglos en otros leng)\n",
        "- tuple --> Listas no mutables\n",
        "- dict --> Diccionarios\n",
        "- set y fronzenset --> Conjuntos \n"
      ]
    },
    {
      "cell_type": "code",
      "metadata": {
        "id": "Bon3WSPcat6g"
      },
      "source": [
        "import sys\n",
        "edad = 19\n",
        "print( \"Tu edad es:\",edad) # al final del codigo de una linea \n",
        "\"\"\"\n",
        "Comentarios de multilpes lineas.\n",
        "\"\"\"\n",
        "# Tipos de datos numericos\n",
        "sys.getsizeof(edad) # los datos int ocupan difente espacio dependiendo de la plataforma\n",
        "edad = edad + 1\n",
        "print(edad)\n",
        "estatura = 1.56 \n",
        "print(estatura)\n",
        "print( sys.getsizeof (estatura))\n",
        "estatura = estatura + 0.1\n",
        "print(estatura)\n",
        "print(round(estatura,2))\n",
        "\n",
        "edad += 1 # edad= edad +1 \n",
        "print( \"Tu edad es:\",edad)\n",
        "edad -= 1 # edad= edad -1 \n",
        "print( \"Tu edad es:\",edad)\n",
        "edad /= 2  # edad= edad /2\n",
        "print( \"La mitad de tu edad es:\",edad)\n",
        "edad += 1\n",
        "edad /= 2\n",
        "print( \"La mitad de tu edad es:\",edad)\n",
        "edad = 21\n",
        "# calcular la mitad de la edad sin decimal.\n",
        "edad = edad // 2\n",
        "print( \"La mitad de tu edad es:\",edad)\n",
        "\n",
        "# en la mayoria de los porgramas, no permite opercaiones entre diferentes tipos de datos.\n",
        "numero = edad / 2.0\n",
        "print( numero )\n",
        "\n",
        "numero *= 3\n",
        "print( numero )\n",
        "\n",
        "numero = 5.0\n",
        "numero = numero ** 2\n",
        "print( numero )\n",
        "\n",
        "# operador modulo\n",
        "numero = 21\n",
        "print( numero / 2)\n",
        "\n",
        "\n",
        "\n",
        "\n",
        "\n",
        "\n",
        "\n",
        "\n",
        "\n",
        "\n",
        "\n",
        "\n",
        "\n",
        "\n"
      ],
      "execution_count": null,
      "outputs": []
    },
    {
      "cell_type": "code",
      "metadata": {
        "id": "XtSKegT_lvuY"
      },
      "source": [
        ""
      ],
      "execution_count": null,
      "outputs": []
    },
    {
      "cell_type": "markdown",
      "metadata": {
        "id": "m7MKmiNljV-H"
      },
      "source": [
        "Resumen de minimo de una cuartilla de los origenes de lenguaje python donde vega el porque de su creacion, sus caracteristicas principales y sus diferencias con otros lenguajes.\n",
        "A mano en cuaderno.\n",
        "Sacarle foto y subir la foto.\n"
      ]
    },
    {
      "cell_type": "code",
      "metadata": {
        "colab": {
          "base_uri": "https://localhost:8080/"
        },
        "id": "tLceb-_xlyoF",
        "outputId": "1003e825-3268-47da-b716-0eb0a0d991b6"
      },
      "source": [
        "# operador modulo: da como resultado el residuo de una division entera.\n",
        "numero = 21\n",
        "print( numero / 2)\n",
        "print( numero // 2)\n",
        "print( numero % 2)\n",
        "\n",
        "\n",
        "numero = 24\n",
        "print(\"Residuo de 24 / 5 es:\" , numero % 5)\n",
        "\n",
        "\n",
        "#Operadores logicos o relacionales.\n",
        "print( numero % 2 == 0)\n",
        "\n",
        "#Diferencia.\n",
        "print( \"24 es diferente de 23=\" , numero != 23)\n",
        "print( \"24 es mayorque 23=\" , numero > 23)\n",
        "print( \"24 es mayor que 23=\" , numero < 23)\n",
        "\n",
        "print( \"24 es mayor o igual que 24=\" , numero >= 24)\n",
        "print( \"24 es mayor o igual que 23=\" , numero >= 23)\n",
        "print(\"El tipo de dato de la variable numero es:\" , type(numero))\n",
        "print(\"El tipo de dato de la variable numero es:\" , type(numero/2.0))\n",
        "    "
      ],
      "execution_count": null,
      "outputs": [
        {
          "output_type": "stream",
          "name": "stdout",
          "text": [
            "10.5\n",
            "10\n",
            "1\n",
            "Residuo de 24 / 5 es: 4\n",
            "True\n",
            "24 es diferente de 23= True\n",
            "24 es mayorque 23= True\n",
            "24 es mayor que 23= False\n",
            "24 es mayor o igual que 24= True\n",
            "24 es mayor o igual que 23= True\n",
            "El tipo de dato de la variable numero es: <class 'int'>\n",
            "El tipo de dato de la variable numero es: <class 'float'>\n"
          ]
        }
      ]
    },
    {
      "cell_type": "markdown",
      "metadata": {
        "id": "dPg1WO2rphsv"
      },
      "source": [
        "# tipo de dato string en Python\n",
        " Se maneja como un tipo de dato complejo.\n",
        " Se puede acceder a los elementos del string por medio del indice del caracter.\n",
        " Es mutable.\n",
        " Tiene metodos utiles (potentes)\n",
        " Slicing\n",
        "\n"
      ]
    },
    {
      "cell_type": "code",
      "metadata": {
        "colab": {
          "base_uri": "https://localhost:8080/"
        },
        "id": "DgT-7UCAqD0e",
        "outputId": "0623e181-340b-4447-8a94-9f6dac1190fe"
      },
      "source": [
        "nombre = \"jose\"\n",
        "Carrera = \"Ingenieria en computacion\"\n",
        "frase= \"\"\"El conocimiento\n",
        "me persigue,..... \n",
        "pero\n",
        "yo soy mas rapido\"\"\"\n",
        "print(nombre)\n",
        "print(Carrera)\n",
        "print(frase)\n",
        "\n",
        "# La funcion type de python te devuelve el tipo de dato de una variable.\n",
        "print(type(nombre))\n",
        "\n",
        "paterno = str (\"perez\")\n",
        "print(paterno)"
      ],
      "execution_count": null,
      "outputs": [
        {
          "output_type": "stream",
          "name": "stdout",
          "text": [
            "jose\n",
            "Ingenieria en computacion\n",
            "El conocimiento\n",
            "me persigue,..... \n",
            "pero\n",
            "yo soy mas rapido\n",
            "<class 'str'>\n",
            "perez\n"
          ]
        }
      ]
    }
  ]
}